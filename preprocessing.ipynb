{
  "nbformat": 4,
  "nbformat_minor": 0,
  "metadata": {
    "colab": {
      "provenance": []
    },
    "kernelspec": {
      "name": "python3",
      "display_name": "Python 3"
    },
    "language_info": {
      "name": "python"
    },
    "widgets": {
      "application/vnd.jupyter.widget-state+json": {
        "ba936d500b034bbab7a963b45a147427": {
          "model_module": "@jupyter-widgets/controls",
          "model_name": "VBoxModel",
          "model_module_version": "1.5.0",
          "state": {
            "_dom_classes": [],
            "_model_module": "@jupyter-widgets/controls",
            "_model_module_version": "1.5.0",
            "_model_name": "VBoxModel",
            "_view_count": null,
            "_view_module": "@jupyter-widgets/controls",
            "_view_module_version": "1.5.0",
            "_view_name": "VBoxView",
            "box_style": "",
            "children": [
              "IPY_MODEL_97bb476ee27d4c3c8165e089f0af3593",
              "IPY_MODEL_2d98175a1c7840029c675a86cdb5bfe6"
            ],
            "layout": "IPY_MODEL_86a9a7a6d72e46a5acddc7ad12f477f3"
          }
        },
        "97bb476ee27d4c3c8165e089f0af3593": {
          "model_module": "@jupyter-widgets/controls",
          "model_name": "LabelModel",
          "model_module_version": "1.5.0",
          "state": {
            "_dom_classes": [],
            "_model_module": "@jupyter-widgets/controls",
            "_model_module_version": "1.5.0",
            "_model_name": "LabelModel",
            "_view_count": null,
            "_view_module": "@jupyter-widgets/controls",
            "_view_module_version": "1.5.0",
            "_view_name": "LabelView",
            "description": "",
            "description_tooltip": null,
            "layout": "IPY_MODEL_b41898e6b33444ea9b801f88b25dfe03",
            "placeholder": "​",
            "style": "IPY_MODEL_62637f3c099642d087242c4b773d4349",
            "value": "197.542 MB of 197.542 MB uploaded (0.000 MB deduped)\r"
          }
        },
        "2d98175a1c7840029c675a86cdb5bfe6": {
          "model_module": "@jupyter-widgets/controls",
          "model_name": "FloatProgressModel",
          "model_module_version": "1.5.0",
          "state": {
            "_dom_classes": [],
            "_model_module": "@jupyter-widgets/controls",
            "_model_module_version": "1.5.0",
            "_model_name": "FloatProgressModel",
            "_view_count": null,
            "_view_module": "@jupyter-widgets/controls",
            "_view_module_version": "1.5.0",
            "_view_name": "ProgressView",
            "bar_style": "",
            "description": "",
            "description_tooltip": null,
            "layout": "IPY_MODEL_f0943c7868e64dfd85bd95ecefc070ab",
            "max": 1,
            "min": 0,
            "orientation": "horizontal",
            "style": "IPY_MODEL_7fe0628e073a47ad959fd7e36d98f6a6",
            "value": 1
          }
        },
        "86a9a7a6d72e46a5acddc7ad12f477f3": {
          "model_module": "@jupyter-widgets/base",
          "model_name": "LayoutModel",
          "model_module_version": "1.2.0",
          "state": {
            "_model_module": "@jupyter-widgets/base",
            "_model_module_version": "1.2.0",
            "_model_name": "LayoutModel",
            "_view_count": null,
            "_view_module": "@jupyter-widgets/base",
            "_view_module_version": "1.2.0",
            "_view_name": "LayoutView",
            "align_content": null,
            "align_items": null,
            "align_self": null,
            "border": null,
            "bottom": null,
            "display": null,
            "flex": null,
            "flex_flow": null,
            "grid_area": null,
            "grid_auto_columns": null,
            "grid_auto_flow": null,
            "grid_auto_rows": null,
            "grid_column": null,
            "grid_gap": null,
            "grid_row": null,
            "grid_template_areas": null,
            "grid_template_columns": null,
            "grid_template_rows": null,
            "height": null,
            "justify_content": null,
            "justify_items": null,
            "left": null,
            "margin": null,
            "max_height": null,
            "max_width": null,
            "min_height": null,
            "min_width": null,
            "object_fit": null,
            "object_position": null,
            "order": null,
            "overflow": null,
            "overflow_x": null,
            "overflow_y": null,
            "padding": null,
            "right": null,
            "top": null,
            "visibility": null,
            "width": null
          }
        },
        "b41898e6b33444ea9b801f88b25dfe03": {
          "model_module": "@jupyter-widgets/base",
          "model_name": "LayoutModel",
          "model_module_version": "1.2.0",
          "state": {
            "_model_module": "@jupyter-widgets/base",
            "_model_module_version": "1.2.0",
            "_model_name": "LayoutModel",
            "_view_count": null,
            "_view_module": "@jupyter-widgets/base",
            "_view_module_version": "1.2.0",
            "_view_name": "LayoutView",
            "align_content": null,
            "align_items": null,
            "align_self": null,
            "border": null,
            "bottom": null,
            "display": null,
            "flex": null,
            "flex_flow": null,
            "grid_area": null,
            "grid_auto_columns": null,
            "grid_auto_flow": null,
            "grid_auto_rows": null,
            "grid_column": null,
            "grid_gap": null,
            "grid_row": null,
            "grid_template_areas": null,
            "grid_template_columns": null,
            "grid_template_rows": null,
            "height": null,
            "justify_content": null,
            "justify_items": null,
            "left": null,
            "margin": null,
            "max_height": null,
            "max_width": null,
            "min_height": null,
            "min_width": null,
            "object_fit": null,
            "object_position": null,
            "order": null,
            "overflow": null,
            "overflow_x": null,
            "overflow_y": null,
            "padding": null,
            "right": null,
            "top": null,
            "visibility": null,
            "width": null
          }
        },
        "62637f3c099642d087242c4b773d4349": {
          "model_module": "@jupyter-widgets/controls",
          "model_name": "DescriptionStyleModel",
          "model_module_version": "1.5.0",
          "state": {
            "_model_module": "@jupyter-widgets/controls",
            "_model_module_version": "1.5.0",
            "_model_name": "DescriptionStyleModel",
            "_view_count": null,
            "_view_module": "@jupyter-widgets/base",
            "_view_module_version": "1.2.0",
            "_view_name": "StyleView",
            "description_width": ""
          }
        },
        "f0943c7868e64dfd85bd95ecefc070ab": {
          "model_module": "@jupyter-widgets/base",
          "model_name": "LayoutModel",
          "model_module_version": "1.2.0",
          "state": {
            "_model_module": "@jupyter-widgets/base",
            "_model_module_version": "1.2.0",
            "_model_name": "LayoutModel",
            "_view_count": null,
            "_view_module": "@jupyter-widgets/base",
            "_view_module_version": "1.2.0",
            "_view_name": "LayoutView",
            "align_content": null,
            "align_items": null,
            "align_self": null,
            "border": null,
            "bottom": null,
            "display": null,
            "flex": null,
            "flex_flow": null,
            "grid_area": null,
            "grid_auto_columns": null,
            "grid_auto_flow": null,
            "grid_auto_rows": null,
            "grid_column": null,
            "grid_gap": null,
            "grid_row": null,
            "grid_template_areas": null,
            "grid_template_columns": null,
            "grid_template_rows": null,
            "height": null,
            "justify_content": null,
            "justify_items": null,
            "left": null,
            "margin": null,
            "max_height": null,
            "max_width": null,
            "min_height": null,
            "min_width": null,
            "object_fit": null,
            "object_position": null,
            "order": null,
            "overflow": null,
            "overflow_x": null,
            "overflow_y": null,
            "padding": null,
            "right": null,
            "top": null,
            "visibility": null,
            "width": null
          }
        },
        "7fe0628e073a47ad959fd7e36d98f6a6": {
          "model_module": "@jupyter-widgets/controls",
          "model_name": "ProgressStyleModel",
          "model_module_version": "1.5.0",
          "state": {
            "_model_module": "@jupyter-widgets/controls",
            "_model_module_version": "1.5.0",
            "_model_name": "ProgressStyleModel",
            "_view_count": null,
            "_view_module": "@jupyter-widgets/base",
            "_view_module_version": "1.2.0",
            "_view_name": "StyleView",
            "bar_color": null,
            "description_width": ""
          }
        }
      }
    }
  },
  "cells": [
    {
      "cell_type": "code",
      "execution_count": 1,
      "metadata": {
        "colab": {
          "base_uri": "https://localhost:8080/"
        },
        "id": "7E4zrmDq3uRT",
        "outputId": "63ef9c9e-e1ec-4b44-983f-b70a3a0cbaf0"
      },
      "outputs": [
        {
          "output_type": "stream",
          "name": "stdout",
          "text": [
            "\u001b[K     |████████████████████████████████| 1.9 MB 5.4 MB/s \n",
            "\u001b[K     |████████████████████████████████| 162 kB 54.1 MB/s \n",
            "\u001b[K     |████████████████████████████████| 182 kB 47.1 MB/s \n",
            "\u001b[K     |████████████████████████████████| 63 kB 1.5 MB/s \n",
            "\u001b[K     |████████████████████████████████| 162 kB 47.3 MB/s \n",
            "\u001b[K     |████████████████████████████████| 158 kB 49.7 MB/s \n",
            "\u001b[K     |████████████████████████████████| 157 kB 42.5 MB/s \n",
            "\u001b[K     |████████████████████████████████| 157 kB 64.4 MB/s \n",
            "\u001b[K     |████████████████████████████████| 157 kB 64.6 MB/s \n",
            "\u001b[K     |████████████████████████████████| 157 kB 34.1 MB/s \n",
            "\u001b[K     |████████████████████████████████| 157 kB 46.0 MB/s \n",
            "\u001b[K     |████████████████████████████████| 157 kB 64.9 MB/s \n",
            "\u001b[K     |████████████████████████████████| 157 kB 55.1 MB/s \n",
            "\u001b[K     |████████████████████████████████| 156 kB 44.2 MB/s \n",
            "\u001b[?25h  Building wheel for pathtools (setup.py) ... \u001b[?25l\u001b[?25hdone\n"
          ]
        }
      ],
      "source": [
        "!pip install wandb -qU"
      ]
    },
    {
      "cell_type": "code",
      "source": [
        "import wandb\n",
        "wandb.login()"
      ],
      "metadata": {
        "colab": {
          "base_uri": "https://localhost:8080/",
          "height": 159
        },
        "id": "9StIgCmH34cx",
        "outputId": "30328e99-6a56-4a7b-8404-927ebcc6b8cc"
      },
      "execution_count": 2,
      "outputs": [
        {
          "output_type": "stream",
          "name": "stderr",
          "text": [
            "ERROR:wandb.jupyter:Failed to detect the name of this notebook, you can set it manually with the WANDB_NOTEBOOK_NAME environment variable to enable code saving.\n"
          ]
        },
        {
          "output_type": "display_data",
          "data": {
            "text/plain": [
              "<IPython.core.display.Javascript object>"
            ],
            "application/javascript": [
              "\n",
              "        window._wandbApiKey = new Promise((resolve, reject) => {\n",
              "            function loadScript(url) {\n",
              "            return new Promise(function(resolve, reject) {\n",
              "                let newScript = document.createElement(\"script\");\n",
              "                newScript.onerror = reject;\n",
              "                newScript.onload = resolve;\n",
              "                document.body.appendChild(newScript);\n",
              "                newScript.src = url;\n",
              "            });\n",
              "            }\n",
              "            loadScript(\"https://cdn.jsdelivr.net/npm/postmate/build/postmate.min.js\").then(() => {\n",
              "            const iframe = document.createElement('iframe')\n",
              "            iframe.style.cssText = \"width:0;height:0;border:none\"\n",
              "            document.body.appendChild(iframe)\n",
              "            const handshake = new Postmate({\n",
              "                container: iframe,\n",
              "                url: 'https://wandb.ai/authorize'\n",
              "            });\n",
              "            const timeout = setTimeout(() => reject(\"Couldn't auto authenticate\"), 5000)\n",
              "            handshake.then(function(child) {\n",
              "                child.on('authorize', data => {\n",
              "                    clearTimeout(timeout)\n",
              "                    resolve(data)\n",
              "                });\n",
              "            });\n",
              "            })\n",
              "        });\n",
              "    "
            ]
          },
          "metadata": {}
        },
        {
          "output_type": "stream",
          "name": "stderr",
          "text": [
            "\u001b[34m\u001b[1mwandb\u001b[0m: Logging into wandb.ai. (Learn how to deploy a W&B server locally: https://wandb.me/wandb-server)\n",
            "\u001b[34m\u001b[1mwandb\u001b[0m: You can find your API key in your browser here: https://wandb.ai/authorize\n",
            "wandb: Paste an API key from your profile and hit enter, or press ctrl+c to quit: "
          ]
        },
        {
          "name": "stdout",
          "output_type": "stream",
          "text": [
            "··········\n"
          ]
        },
        {
          "output_type": "stream",
          "name": "stderr",
          "text": [
            "\u001b[34m\u001b[1mwandb\u001b[0m: Appending key for api.wandb.ai to your netrc file: /root/.netrc\n"
          ]
        },
        {
          "output_type": "execute_result",
          "data": {
            "text/plain": [
              "True"
            ]
          },
          "metadata": {},
          "execution_count": 2
        }
      ]
    },
    {
      "cell_type": "code",
      "source": [
        "# import the necessary packages\n",
        "from imutils import paths\n",
        "import logging\n",
        "import os\n",
        "import cv2\n",
        "import numpy as np\n",
        "import joblib"
      ],
      "metadata": {
        "id": "M1uBBBJ5393H"
      },
      "execution_count": 3,
      "outputs": []
    },
    {
      "cell_type": "code",
      "source": [
        "# configure logging\n",
        "# reference for a logging obj\n",
        "logger = logging.getLogger()\n",
        "\n",
        "# set level of logging\n",
        "logger.setLevel(logging.INFO)\n",
        "\n",
        "# create handlers\n",
        "c_handler = logging.StreamHandler()\n",
        "c_format = logging.Formatter(fmt=\"%(asctime)s %(message)s\",datefmt='%d-%m-%Y %H:%M:%S')\n",
        "c_handler.setFormatter(c_format)\n",
        "\n",
        "# add handler to the logger\n",
        "logger.handlers[0] = c_handler"
      ],
      "metadata": {
        "id": "ynOAGpUV3-12"
      },
      "execution_count": 4,
      "outputs": []
    },
    {
      "cell_type": "code",
      "source": [
        "# since we are using Jupyter Notebooks we can replace our argument\n",
        "# parsing code with *hard coded* arguments and values\n",
        "args = {\n",
        "\t\"dataset\": \"animals\",\n",
        "  \"project_name\": \"first_image_classifier\",\n",
        "  \"artifact_name\": \"animals_raw_data:latest\",\n",
        "  \"eda_name\": \"eda_animals\"\n",
        "}"
      ],
      "metadata": {
        "id": "oUel4hn24N5Z"
      },
      "execution_count": 5,
      "outputs": []
    },
    {
      "cell_type": "code",
      "source": [
        "# open the W&B project created in the Fetch step\n",
        "run = wandb.init(entity=\"gildson\",project=args[\"project_name\"], job_type=\"preprocessing\")\n",
        "\n",
        "# download the raw data from W&B\n",
        "raw_data = run.use_artifact(args[\"artifact_name\"])\n",
        "data_dir = raw_data.download()\n",
        "logger.info(\"Path: {}\".format(data_dir))"
      ],
      "metadata": {
        "colab": {
          "base_uri": "https://localhost:8080/",
          "height": 156
        },
        "id": "p7s36O7t4QQi",
        "outputId": "ab7c7392-9faa-4c91-b521-5ffe1fa7ade1"
      },
      "execution_count": 6,
      "outputs": [
        {
          "output_type": "stream",
          "name": "stderr",
          "text": [
            "\u001b[34m\u001b[1mwandb\u001b[0m: Currently logged in as: \u001b[33mgildson\u001b[0m. Use \u001b[1m`wandb login --relogin`\u001b[0m to force relogin\n"
          ]
        },
        {
          "output_type": "display_data",
          "data": {
            "text/plain": [
              "<IPython.core.display.HTML object>"
            ],
            "text/html": [
              "Tracking run with wandb version 0.13.4"
            ]
          },
          "metadata": {}
        },
        {
          "output_type": "display_data",
          "data": {
            "text/plain": [
              "<IPython.core.display.HTML object>"
            ],
            "text/html": [
              "Run data is saved locally in <code>/content/wandb/run-20221008_135538-1rjq5ibg</code>"
            ]
          },
          "metadata": {}
        },
        {
          "output_type": "display_data",
          "data": {
            "text/plain": [
              "<IPython.core.display.HTML object>"
            ],
            "text/html": [
              "Syncing run <strong><a href=\"https://wandb.ai/gildson/first_image_classifier/runs/1rjq5ibg\" target=\"_blank\">glorious-sea-2</a></strong> to <a href=\"https://wandb.ai/gildson/first_image_classifier\" target=\"_blank\">Weights & Biases</a> (<a href=\"https://wandb.me/run\" target=\"_blank\">docs</a>)<br/>"
            ]
          },
          "metadata": {}
        },
        {
          "output_type": "stream",
          "name": "stderr",
          "text": [
            "\u001b[34m\u001b[1mwandb\u001b[0m: Downloading large artifact animals_raw_data:latest, 187.97MB. 3000 files... \n",
            "\u001b[34m\u001b[1mwandb\u001b[0m:   3000 of 3000 files downloaded.  \n",
            "Done. 0:0:30.6\n",
            "08-10-2022 13:56:10 Path: ./artifacts/animals_raw_data:v0\n"
          ]
        }
      ]
    },
    {
      "cell_type": "code",
      "source": [
        "# create a table with columns we want to track/compare\n",
        "preview_dt = wandb.Table(columns=[\"id\", \"image\", \"label\",\"size\"])\n",
        "\n",
        "# create a new artifact to store the EDA data\n",
        "eda_data = wandb.Artifact(args[\"eda_name\"], type=\"eda_data\")"
      ],
      "metadata": {
        "id": "-nMCtphH4ViN"
      },
      "execution_count": 7,
      "outputs": []
    },
    {
      "cell_type": "code",
      "source": [
        "# grab the list of images that we'll be describing\n",
        "imagePaths = list(paths.list_images(data_dir))\n",
        "\n",
        "# append all images to the artifact\n",
        "for img in imagePaths:\n",
        "  \"img example: ./artifacts/animals_raw_data:v0/dogs/dogs_00892.jpg\"\n",
        "  label = img.split(os.path.sep)\n",
        "  image = cv2.imread(img)\n",
        "  preview_dt.add_data(label[-1], wandb.Image(img), label[-2], str(image.shape[0]) + \" X \" + str(image.shape[1]))"
      ],
      "metadata": {
        "id": "fO2eivvT4ZlH"
      },
      "execution_count": 8,
      "outputs": []
    },
    {
      "cell_type": "code",
      "source": [
        "# save artifact to W&B\n",
        "eda_data.add(preview_dt, \"EDA_Table\")\n",
        "run.log_artifact(eda_data)"
      ],
      "metadata": {
        "colab": {
          "base_uri": "https://localhost:8080/"
        },
        "id": "A2v-eHcW4blz",
        "outputId": "4398a179-81b1-4861-953e-c7c07371502e"
      },
      "execution_count": 9,
      "outputs": [
        {
          "output_type": "execute_result",
          "data": {
            "text/plain": [
              "<wandb.sdk.wandb_artifacts.Artifact at 0x7f89a1898bd0>"
            ]
          },
          "metadata": {},
          "execution_count": 9
        }
      ]
    },
    {
      "cell_type": "markdown",
      "source": [
        "Limpeza dos dados"
      ],
      "metadata": {
        "id": "z2MfH5fz4k4g"
      }
    },
    {
      "cell_type": "code",
      "source": [
        "# since we are using Jupyter Notebooks we can replace our argument\n",
        "# parsing code with *hard coded* arguments and values\n",
        "args = {\n",
        "\t\"dataset\": \"clean_data\",\n",
        "  \"label\": \"label\",\n",
        "  \"project_name\": \"first_image_classifier\",\n",
        "  \"artifact_name\": \"animals_raw_data:latest\"\n",
        "}"
      ],
      "metadata": {
        "id": "A7L1A05m4jiw"
      },
      "execution_count": 10,
      "outputs": []
    },
    {
      "cell_type": "code",
      "source": [
        "# download the raw data from W&B\n",
        "raw_data = run.use_artifact(args[\"artifact_name\"])\n",
        "data_dir = raw_data.download()\n",
        "logger.info(\"Path: {}\".format(data_dir))"
      ],
      "metadata": {
        "colab": {
          "base_uri": "https://localhost:8080/"
        },
        "id": "pEPKF_Hx4ojq",
        "outputId": "57c774be-5fbe-460d-d1f7-fcc76ac7150c"
      },
      "execution_count": 11,
      "outputs": [
        {
          "output_type": "stream",
          "name": "stderr",
          "text": [
            "\u001b[34m\u001b[1mwandb\u001b[0m: Downloading large artifact animals_raw_data:latest, 187.97MB. 3000 files... \n",
            "\u001b[34m\u001b[1mwandb\u001b[0m:   3000 of 3000 files downloaded.  \n",
            "Done. 0:0:0.5\n",
            "08-10-2022 13:58:26 Path: ./artifacts/animals_raw_data:v0\n"
          ]
        }
      ]
    },
    {
      "cell_type": "code",
      "source": [
        "# a basic simple preprocessor\n",
        "class SimplePreprocessor:\n",
        "\tdef __init__(self, width, height, inter=cv2.INTER_AREA):\n",
        "\t\t# store the target image width, height, and interpolation\n",
        "\t\t# method used when resizing\n",
        "\t\tself.width = width\n",
        "\t\tself.height = height\n",
        "\t\tself.inter = inter\n",
        "\n",
        "\tdef preprocess(self, image):\n",
        "\t\t# resize the image to a fixed size, ignoring the aspect\n",
        "\t\t# ratio\n",
        "\t\treturn cv2.resize(image, (self.width, self.height),interpolation=self.inter)"
      ],
      "metadata": {
        "id": "c5s6AOTv4vt8"
      },
      "execution_count": 12,
      "outputs": []
    },
    {
      "cell_type": "code",
      "source": [
        "# Building an image loader\n",
        "class SimpleDatasetLoader:\n",
        "  def __init__(self, preprocessors=None, logger=None):\n",
        "\t\t# store the image preprocessor\n",
        "    self.preprocessors = preprocessors\n",
        "    self.logger = logger\n",
        "\n",
        "\t\t# if the preprocessors are None, initialize them as an\n",
        "\t\t# empty list\n",
        "    if self.preprocessors is None:\n",
        "      self.preprocessors = []\n",
        "\n",
        "  def load(self, imagePaths, verbose=-1):\n",
        "\t\t# initialize the list of features and labels\n",
        "    data = []\n",
        "    labels = []\n",
        "\n",
        "\t\t# loop over the input images\n",
        "    for (i, imagePath) in enumerate(imagePaths):\n",
        "\t\t\t# load the image and extract the class label assuming\n",
        "\t\t\t# that our path has the following format:\n",
        "\t\t\t# /path/to/dataset/{class}/{image}.jpg\n",
        "\t\t\t# e.g \"img example: ./artifacts/animals_raw_data:v0/dogs/dogs_00892.jpg\"\n",
        "\t\t\t# imagePath.split(os.path.sep)[-2] will return \"dogs\"\n",
        "      image = cv2.imread(imagePath)\n",
        "      label = imagePath.split(os.path.sep)[-2]\n",
        "\n",
        "      # check to see if our preprocessors are not None\n",
        "      if self.preprocessors is not None:\n",
        "\t\t\t\t# loop over the preprocessors and apply each to\n",
        "\t\t\t\t# the image\n",
        "        for p in self.preprocessors:\n",
        "          image = p.preprocess(image)\n",
        "\n",
        "\t\t\t# treat our processed image as a \"feature vector\"\n",
        "\t\t\t# by updating the data list followed by the labels\n",
        "      data.append(image)\n",
        "      labels.append(label)\n",
        "   \n",
        "\t\t\t# show an update every `verbose` images\n",
        "      if verbose > 0 and i > 0 and (i + 1) % verbose == 0:\n",
        "        logger.info(\"[INFO] processed {}/{}\".format(i + 1,len(imagePaths)))\n",
        "\n",
        "\t\t# return a tuple of the data and labels\n",
        "    return (np.array(data), np.array(labels))"
      ],
      "metadata": {
        "id": "CFFz7RFx4ycJ"
      },
      "execution_count": 13,
      "outputs": []
    },
    {
      "cell_type": "code",
      "source": [
        "# grab the list of images that we'll be describing\n",
        "logger.info(\"[INFO] preprocessing images...\")\n",
        "imagePaths = list(paths.list_images(data_dir))\n",
        "\n",
        "# initialize the image preprocessor, load the dataset from disk,\n",
        "# and reshape the data matrix\n",
        "sp = SimplePreprocessor(32, 32)\n",
        "sdl = SimpleDatasetLoader(preprocessors=[sp],logger=logger)\n",
        "(data, labels) = sdl.load(imagePaths, verbose=500)\n",
        "# 32 x 32 x 3 = 3072\n",
        "data = data.reshape((data.shape[0], 3072))\n",
        "\n",
        "# show some information on memory consumption of the images\n",
        "logger.info(\"[INFO] features matrix: {:.1f}MB\".format(data.nbytes / (1024 * 1024)))"
      ],
      "metadata": {
        "colab": {
          "base_uri": "https://localhost:8080/"
        },
        "id": "jJaNCqbC40Uy",
        "outputId": "4f6b7a8d-43a2-436b-9a4c-d716fc416ee1"
      },
      "execution_count": 14,
      "outputs": [
        {
          "output_type": "stream",
          "name": "stderr",
          "text": [
            "08-10-2022 13:58:36 [INFO] preprocessing images...\n",
            "08-10-2022 13:58:37 [INFO] processed 500/3000\n",
            "08-10-2022 13:58:39 [INFO] processed 1000/3000\n",
            "08-10-2022 13:58:42 [INFO] processed 1500/3000\n",
            "08-10-2022 13:58:45 [INFO] processed 2000/3000\n",
            "08-10-2022 13:58:47 [INFO] processed 2500/3000\n",
            "08-10-2022 13:58:48 [INFO] processed 3000/3000\n",
            "08-10-2022 13:58:48 [INFO] features matrix: 8.8MB\n"
          ]
        }
      ]
    },
    {
      "cell_type": "code",
      "source": [
        "logger.info(\"Data shape: {}\".format(data.shape))\n",
        "logger.info(\"Label shape: {}\".format(labels.shape))"
      ],
      "metadata": {
        "colab": {
          "base_uri": "https://localhost:8080/"
        },
        "id": "NNZrrvhR41zK",
        "outputId": "5a7d9841-1285-443b-d7df-b21d220a1d38"
      },
      "execution_count": 15,
      "outputs": [
        {
          "output_type": "stream",
          "name": "stderr",
          "text": [
            "08-10-2022 13:58:53 Data shape: (3000, 3072)\n",
            "08-10-2022 13:58:53 Label shape: (3000,)\n"
          ]
        }
      ]
    },
    {
      "cell_type": "code",
      "source": [
        "logger.info(\"Dumping the clean data artifacts to disk\")\n",
        "# Save the feature artifacts using joblib\n",
        "joblib.dump(data, args[\"dataset\"])\n",
        "\n",
        "# Save the target using joblib\n",
        "joblib.dump(labels, args[\"label\"])"
      ],
      "metadata": {
        "colab": {
          "base_uri": "https://localhost:8080/"
        },
        "id": "iagpKYUv429i",
        "outputId": "c182d8ea-ad4f-4397-a3f5-e80440c9a31c"
      },
      "execution_count": 16,
      "outputs": [
        {
          "output_type": "stream",
          "name": "stderr",
          "text": [
            "08-10-2022 13:58:55 Dumping the clean data artifacts to disk\n"
          ]
        },
        {
          "output_type": "execute_result",
          "data": {
            "text/plain": [
              "['label']"
            ]
          },
          "metadata": {},
          "execution_count": 16
        }
      ]
    },
    {
      "cell_type": "code",
      "source": [
        "# clean data artifact\n",
        "artifact = wandb.Artifact(args[\"dataset\"],\n",
        "                          type=\"CLEAN_DATA\",\n",
        "                          description=\"A json file representing the clean and preprocessed data\"\n",
        "                          )\n",
        "\n",
        "logger.info(\"Logging clean data artifact\")\n",
        "artifact.add_file(args[\"dataset\"])\n",
        "run.log_artifact(artifact)"
      ],
      "metadata": {
        "colab": {
          "base_uri": "https://localhost:8080/"
        },
        "id": "rbTUaiHI44TV",
        "outputId": "b03af550-ab66-4ae3-f11b-824ecaa2de2a"
      },
      "execution_count": 17,
      "outputs": [
        {
          "output_type": "stream",
          "name": "stderr",
          "text": [
            "08-10-2022 13:58:57 Logging clean data artifact\n"
          ]
        },
        {
          "output_type": "execute_result",
          "data": {
            "text/plain": [
              "<wandb.sdk.wandb_artifacts.Artifact at 0x7f89a130e790>"
            ]
          },
          "metadata": {},
          "execution_count": 17
        }
      ]
    },
    {
      "cell_type": "code",
      "source": [
        "# clean label artifact\n",
        "artifact = wandb.Artifact(args[\"label\"],\n",
        "                          type=\"CLEAN_DATA\",\n",
        "                          description=\"A json file representing the clean label\"\n",
        "                          )\n",
        "\n",
        "logger.info(\"Logging clean label artifact\")\n",
        "artifact.add_file(args[\"label\"])\n",
        "run.log_artifact(artifact)"
      ],
      "metadata": {
        "colab": {
          "base_uri": "https://localhost:8080/"
        },
        "id": "rtYc3jvy454p",
        "outputId": "e6857faf-0917-4fab-de02-19b108950225"
      },
      "execution_count": 18,
      "outputs": [
        {
          "output_type": "stream",
          "name": "stderr",
          "text": [
            "08-10-2022 13:59:00 Logging clean label artifact\n"
          ]
        },
        {
          "output_type": "execute_result",
          "data": {
            "text/plain": [
              "<wandb.sdk.wandb_artifacts.Artifact at 0x7f89a10fea50>"
            ]
          },
          "metadata": {},
          "execution_count": 18
        }
      ]
    },
    {
      "cell_type": "code",
      "source": [
        "run.finish()"
      ],
      "metadata": {
        "colab": {
          "base_uri": "https://localhost:8080/",
          "height": 150,
          "referenced_widgets": [
            "ba936d500b034bbab7a963b45a147427",
            "97bb476ee27d4c3c8165e089f0af3593",
            "2d98175a1c7840029c675a86cdb5bfe6",
            "86a9a7a6d72e46a5acddc7ad12f477f3",
            "b41898e6b33444ea9b801f88b25dfe03",
            "62637f3c099642d087242c4b773d4349",
            "f0943c7868e64dfd85bd95ecefc070ab",
            "7fe0628e073a47ad959fd7e36d98f6a6"
          ]
        },
        "id": "bWVBDq6b47Bp",
        "outputId": "adaf8cfb-bccc-40e4-b154-c4b93cd45a58"
      },
      "execution_count": 19,
      "outputs": [
        {
          "output_type": "display_data",
          "data": {
            "text/plain": [
              "<IPython.core.display.HTML object>"
            ],
            "text/html": [
              "Waiting for W&B process to finish... <strong style=\"color:green\">(success).</strong>"
            ]
          },
          "metadata": {}
        },
        {
          "output_type": "display_data",
          "data": {
            "text/plain": [
              "VBox(children=(Label(value='197.533 MB of 197.533 MB uploaded (0.000 MB deduped)\\r'), FloatProgress(value=1.0,…"
            ],
            "application/vnd.jupyter.widget-view+json": {
              "version_major": 2,
              "version_minor": 0,
              "model_id": "ba936d500b034bbab7a963b45a147427"
            }
          },
          "metadata": {}
        },
        {
          "output_type": "display_data",
          "data": {
            "text/plain": [
              "<IPython.core.display.HTML object>"
            ],
            "text/html": [
              "Synced <strong style=\"color:#cdcd00\">glorious-sea-2</strong>: <a href=\"https://wandb.ai/gildson/first_image_classifier/runs/1rjq5ibg\" target=\"_blank\">https://wandb.ai/gildson/first_image_classifier/runs/1rjq5ibg</a><br/>Synced 5 W&B file(s), 0 media file(s), 3003 artifact file(s) and 0 other file(s)"
            ]
          },
          "metadata": {}
        },
        {
          "output_type": "display_data",
          "data": {
            "text/plain": [
              "<IPython.core.display.HTML object>"
            ],
            "text/html": [
              "Find logs at: <code>./wandb/run-20221008_135538-1rjq5ibg/logs</code>"
            ]
          },
          "metadata": {}
        }
      ]
    }
  ]
}