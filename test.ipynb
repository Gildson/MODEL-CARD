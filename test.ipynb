{
  "nbformat": 4,
  "nbformat_minor": 0,
  "metadata": {
    "colab": {
      "provenance": []
    },
    "kernelspec": {
      "name": "python3",
      "display_name": "Python 3"
    },
    "language_info": {
      "name": "python"
    }
  },
  "cells": [
    {
      "cell_type": "code",
      "execution_count": 1,
      "metadata": {
        "id": "OzCyE6ZlUDFR"
      },
      "outputs": [],
      "source": [
        "!pip install wandb -qU"
      ]
    },
    {
      "cell_type": "code",
      "source": [
        "import wandb\n",
        "wandb.login()"
      ],
      "metadata": {
        "colab": {
          "base_uri": "https://localhost:8080/"
        },
        "id": "XNor-IFMUFpa",
        "outputId": "dbf9e9a7-5ade-47da-c3db-17bdbe80560b"
      },
      "execution_count": 2,
      "outputs": [
        {
          "output_type": "stream",
          "name": "stderr",
          "text": [
            "ERROR:wandb.jupyter:Failed to detect the name of this notebook, you can set it manually with the WANDB_NOTEBOOK_NAME environment variable to enable code saving.\n",
            "\u001b[34m\u001b[1mwandb\u001b[0m: Currently logged in as: \u001b[33mgildson\u001b[0m. Use \u001b[1m`wandb login --relogin`\u001b[0m to force relogin\n"
          ]
        },
        {
          "output_type": "execute_result",
          "data": {
            "text/plain": [
              "True"
            ]
          },
          "metadata": {},
          "execution_count": 2
        }
      ]
    },
    {
      "cell_type": "code",
      "source": [
        "# import the necessary packages\n",
        "from imutils import paths\n",
        "import logging\n",
        "import os\n",
        "import cv2\n",
        "import numpy as np\n",
        "import joblib\n",
        "from sklearn.preprocessing import LabelEncoder\n",
        "from sklearn.neighbors import KNeighborsClassifier\n",
        "from sklearn.metrics import classification_report\n",
        "from sklearn.metrics import fbeta_score, precision_score, recall_score, accuracy_score\n",
        "from sklearn.metrics import confusion_matrix\n",
        "from sklearn.metrics import ConfusionMatrixDisplay\n",
        "import matplotlib.pyplot as plt\n",
        "import re"
      ],
      "metadata": {
        "id": "31JtMDTkUN3E"
      },
      "execution_count": 3,
      "outputs": []
    },
    {
      "cell_type": "code",
      "source": [
        "# configure logging\n",
        "# reference for a logging obj\n",
        "logger = logging.getLogger()\n",
        "\n",
        "# set level of logging\n",
        "logger.setLevel(logging.INFO)\n",
        "\n",
        "# create handlers\n",
        "c_handler = logging.StreamHandler()\n",
        "c_format = logging.Formatter(fmt=\"%(asctime)s %(message)s\",datefmt='%d-%m-%Y %H:%M:%S')\n",
        "c_handler.setFormatter(c_format)\n",
        "\n",
        "# add handler to the logger\n",
        "logger.handlers[0] = c_handler"
      ],
      "metadata": {
        "id": "yJAd5d1UUR1l"
      },
      "execution_count": 4,
      "outputs": []
    },
    {
      "cell_type": "code",
      "source": [
        "# since we are using Jupyter Notebooks we can replace our argument\n",
        "# parsing code with *hard coded* arguments and values\n",
        "args = {\n",
        "  \"project_name\": \"first_image_classifier\",\n",
        "  \"test_feature_artifact\": \"test_x:latest\",\n",
        "  \"test_target_artifact\": \"test_y:latest\",\n",
        "  \"encoder\": \"target_encoder:latest\",\n",
        "  \"inference_model\": \"model:latest\",\n",
        "  \"deploy\": \"inference_result\"\n",
        "}"
      ],
      "metadata": {
        "id": "Q8ZWyv5mUUvF"
      },
      "execution_count": 5,
      "outputs": []
    },
    {
      "cell_type": "code",
      "source": [
        "# open the W&B project created in the Fetch step\n",
        "run = wandb.init(entity=\"gildson\",project=args[\"project_name\"], job_type=\"Test\")\n",
        "\n",
        "logger.info(\"Downloading the test data\")\n",
        "test_x_artifact = run.use_artifact(args[\"test_feature_artifact\"])\n",
        "test_x_path = test_x_artifact.file()\n",
        "test_y_artifact = run.use_artifact(args[\"test_target_artifact\"])\n",
        "test_y_path = test_y_artifact.file()\n",
        "\n",
        "# unpacking the artifacts\n",
        "test_x = joblib.load(test_x_path)\n",
        "test_y = joblib.load(test_y_path)"
      ],
      "metadata": {
        "colab": {
          "base_uri": "https://localhost:8080/",
          "height": 86
        },
        "id": "adjCfHdhUW6L",
        "outputId": "6b601891-7606-4df2-f2f0-eff3f3b15d07"
      },
      "execution_count": 6,
      "outputs": [
        {
          "output_type": "display_data",
          "data": {
            "text/plain": [
              "<IPython.core.display.HTML object>"
            ],
            "text/html": [
              "Tracking run with wandb version 0.13.4"
            ]
          },
          "metadata": {}
        },
        {
          "output_type": "display_data",
          "data": {
            "text/plain": [
              "<IPython.core.display.HTML object>"
            ],
            "text/html": [
              "Run data is saved locally in <code>/content/wandb/run-20221008_155908-3oe8zx9r</code>"
            ]
          },
          "metadata": {}
        },
        {
          "output_type": "display_data",
          "data": {
            "text/plain": [
              "<IPython.core.display.HTML object>"
            ],
            "text/html": [
              "Syncing run <strong><a href=\"https://wandb.ai/gildson/first_image_classifier/runs/3oe8zx9r\" target=\"_blank\">breezy-dawn-5</a></strong> to <a href=\"https://wandb.ai/gildson/first_image_classifier\" target=\"_blank\">Weights & Biases</a> (<a href=\"https://wandb.me/run\" target=\"_blank\">docs</a>)<br/>"
            ]
          },
          "metadata": {}
        },
        {
          "output_type": "stream",
          "name": "stderr",
          "text": [
            "08-10-2022 15:59:09 Downloading the test data\n"
          ]
        }
      ]
    },
    {
      "cell_type": "code",
      "source": [
        "logger.info(\"Downloading the encoder and inference model\")\n",
        "encoder_artifact = run.use_artifact(args[\"encoder\"])\n",
        "encoder_path = encoder_artifact.file()\n",
        "model_artifact = run.use_artifact(args[\"inference_model\"])\n",
        "model_path = model_artifact.file()\n",
        "\n",
        "# unpacking the artifacts\n",
        "encoder = joblib.load(encoder_path)\n",
        "model = joblib.load(model_path)"
      ],
      "metadata": {
        "colab": {
          "base_uri": "https://localhost:8080/"
        },
        "id": "HmOhvpdKUnII",
        "outputId": "9c2bde87-5606-4838-e1be-e846b5d0d1e7"
      },
      "execution_count": 7,
      "outputs": [
        {
          "output_type": "stream",
          "name": "stderr",
          "text": [
            "08-10-2022 15:59:21 Downloading the encoder and inference model\n"
          ]
        }
      ]
    },
    {
      "cell_type": "code",
      "source": [
        "# encode the labels as integers\n",
        "test_y = encoder.transform(test_y)\n",
        "\n",
        "# train a k-NN classifier on the raw pixel intensities\n",
        "logger.info(\"[INFO] evaluating k-NN classifier...\")\n",
        "predict = model.predict(test_x)"
      ],
      "metadata": {
        "colab": {
          "base_uri": "https://localhost:8080/"
        },
        "id": "_8EZmVQeUpVF",
        "outputId": "8e9cdae6-97fb-4470-8cb1-c74ff8a9f24c"
      },
      "execution_count": 8,
      "outputs": [
        {
          "output_type": "stream",
          "name": "stderr",
          "text": [
            "08-10-2022 15:59:30 [INFO] evaluating k-NN classifier...\n"
          ]
        }
      ]
    },
    {
      "cell_type": "code",
      "source": [
        "print(classification_report(test_y, predict,target_names=encoder.classes_))"
      ],
      "metadata": {
        "colab": {
          "base_uri": "https://localhost:8080/"
        },
        "id": "ntJCmzpAUrkt",
        "outputId": "d483fa45-bfa6-4838-c835-282f17845a63"
      },
      "execution_count": 9,
      "outputs": [
        {
          "output_type": "stream",
          "name": "stdout",
          "text": [
            "              precision    recall  f1-score   support\n",
            "\n",
            "        cats       0.39      0.54      0.45       239\n",
            "        dogs       0.40      0.47      0.44       262\n",
            "       panda       0.78      0.35      0.48       249\n",
            "\n",
            "    accuracy                           0.45       750\n",
            "   macro avg       0.52      0.45      0.46       750\n",
            "weighted avg       0.52      0.45      0.46       750\n",
            "\n"
          ]
        }
      ]
    },
    {
      "cell_type": "code",
      "source": [
        "# Evaluation Metrics\n",
        "logger.info(\"Test Evaluation metrics\")\n",
        "fbeta = fbeta_score(test_y, predict, beta=1, zero_division=1,average='weighted')\n",
        "precision = precision_score(test_y, predict, zero_division=1,average='weighted')\n",
        "recall = recall_score(test_y, predict, zero_division=1,average='weighted')\n",
        "acc = accuracy_score(test_y, predict)\n",
        "\n",
        "logger.info(\"Test Accuracy: {}\".format(acc))\n",
        "logger.info(\"Test Precision: {}\".format(precision))\n",
        "logger.info(\"Test Recall: {}\".format(recall))\n",
        "logger.info(\"Test F1: {}\".format(fbeta))\n",
        "\n",
        "run.summary[\"Acc\"] = acc\n",
        "run.summary[\"Precision\"] = precision\n",
        "run.summary[\"Recall\"] = recall\n",
        "run.summary[\"F1\"] = fbeta"
      ],
      "metadata": {
        "colab": {
          "base_uri": "https://localhost:8080/"
        },
        "id": "4_oWQZWtUvP3",
        "outputId": "a1613a08-508f-43ab-caed-e76a5d23ecf3"
      },
      "execution_count": 10,
      "outputs": [
        {
          "output_type": "stream",
          "name": "stderr",
          "text": [
            "08-10-2022 15:59:53 Test Evaluation metrics\n",
            "08-10-2022 15:59:53 Test Accuracy: 0.452\n",
            "08-10-2022 15:59:53 Test Precision: 0.5222222770889948\n",
            "08-10-2022 15:59:53 Test Recall: 0.452\n",
            "08-10-2022 15:59:53 Test F1: 0.4554003906569063\n"
          ]
        }
      ]
    },
    {
      "cell_type": "code",
      "source": [
        "encoder.classes_"
      ],
      "metadata": {
        "colab": {
          "base_uri": "https://localhost:8080/"
        },
        "id": "kLeuF6_QUzQ5",
        "outputId": "621951ef-0f37-4349-dd8f-e2dc3e2fb99f"
      },
      "execution_count": 11,
      "outputs": [
        {
          "output_type": "execute_result",
          "data": {
            "text/plain": [
              "array(['cats', 'dogs', 'panda'], dtype='<U5')"
            ]
          },
          "metadata": {},
          "execution_count": 11
        }
      ]
    },
    {
      "cell_type": "code",
      "source": [
        "fig_confusion_matrix, ax = plt.subplots(1,1,figsize=(7,4))\n",
        "ConfusionMatrixDisplay(confusion_matrix(predict,test_y),\n",
        "                       display_labels=encoder.classes_).plot(values_format=\".0f\",ax=ax)\n",
        "\n",
        "ax.set_xlabel(\"True Label\")\n",
        "ax.set_ylabel(\"Predicted Label\")\n",
        "plt.show()"
      ],
      "metadata": {
        "colab": {
          "base_uri": "https://localhost:8080/",
          "height": 279
        },
        "id": "QnBVmBWZU1Vl",
        "outputId": "9c4480b2-1672-453a-a427-3be3e1017ff6"
      },
      "execution_count": 12,
      "outputs": [
        {
          "output_type": "display_data",
          "data": {
            "text/plain": [
              "<Figure size 504x288 with 2 Axes>"
            ],
            "image/png": "[encoded data removed]"
          },
          "metadata": {
            "needs_background": "light"
          }
        }
      ]
    },
    {
      "cell_type": "code",
      "source": [
        "# Uploading figures\n",
        "logger.info(\"Uploading figures\")\n",
        "run.log(\n",
        "    {\n",
        "        \"confusion_matrix\": wandb.Image(fig_confusion_matrix),\n",
        "        # \"other_figure\": wandb.Image(other_fig)\n",
        "    }\n",
        ")"
      ],
      "metadata": {
        "colab": {
          "base_uri": "https://localhost:8080/"
        },
        "id": "BYXepdAqU3Wm",
        "outputId": "6ee0f616-1431-4112-b527-0e4e3ce427a1"
      },
      "execution_count": 13,
      "outputs": [
        {
          "output_type": "stream",
          "name": "stderr",
          "text": [
            "08-10-2022 16:00:27 Uploading figures\n"
          ]
        }
      ]
    },
    {
      "cell_type": "code",
      "source": [
        "# create a folder named 'test'\n",
        "dirname = 'test'\n",
        "os.mkdir(dirname)\n",
        "\n",
        "# re-generate test images and put all of them in test/ folder\n",
        "for i in range(test_x.shape[0]):\n",
        "  img = test_x[i].reshape(32,32,3)\n",
        "  cv2.imwrite(os.path.join(dirname,''.join([str(i),'.jpg'])),img)"
      ],
      "metadata": {
        "id": "H0FZnnZbU5X1"
      },
      "execution_count": 14,
      "outputs": []
    },
    {
      "cell_type": "code",
      "source": [
        "# sort image Paths by name\n",
        "# 0.jpg, 1.jpg, 2.jpg, ....\n",
        "imagePaths = list(paths.list_images(\"test\"))\n",
        "imagePaths = sorted(imagePaths, key=lambda x: int(re.search(r\"(\\d+)\\.[a-z]+$\", x).group(1)))"
      ],
      "metadata": {
        "id": "NIVlHY-7U7YB"
      },
      "execution_count": 15,
      "outputs": []
    },
    {
      "cell_type": "code",
      "source": [
        "# create a table with columns we want to track/compare\n",
        "preview_dt = wandb.Table(columns=[\"test id\",\"image\", \"target\",\"predict\"])\n",
        "\n",
        "# create a new artifact to store the EDA data\n",
        "inference_result = wandb.Artifact(args[\"deploy\"], type=\"INFERENCE\")"
      ],
      "metadata": {
        "id": "VOcPgjwPU9Q8"
      },
      "execution_count": 16,
      "outputs": []
    },
    {
      "cell_type": "code",
      "source": [
        "# append all images to the artifact\n",
        "for i,img in enumerate(imagePaths):\n",
        "  image = cv2.imread(img)\n",
        "  preview_dt.add_data(i, \n",
        "                      wandb.Image(img), \n",
        "                      encoder.inverse_transform([test_y[i]])[0], \n",
        "                      encoder.inverse_transform([predict[i]])[0])"
      ],
      "metadata": {
        "id": "c3x9gaDPU_fL"
      },
      "execution_count": 17,
      "outputs": []
    },
    {
      "cell_type": "code",
      "source": [
        "# save artifact to W&B\n",
        "inference_result.add(preview_dt, \"Inference_Table\")\n",
        "run.log_artifact(inference_result)"
      ],
      "metadata": {
        "colab": {
          "base_uri": "https://localhost:8080/"
        },
        "id": "03cB_7McVBr-",
        "outputId": "b752af66-fd7d-4199-8b93-0db3f4840c7a"
      },
      "execution_count": 18,
      "outputs": [
        {
          "output_type": "execute_result",
          "data": {
            "text/plain": [
              "<wandb.sdk.wandb_artifacts.Artifact at 0x7fe97aa13b10>"
            ]
          },
          "metadata": {},
          "execution_count": 18
        }
      ]
    },
    {
      "cell_type": "code",
      "source": [
        "run.finish()"
      ],
      "metadata": {
        "colab": {
          "base_uri": "https://localhost:8080/",
          "height": 269
        },
        "id": "RGvRvILYVEw4",
        "outputId": "01d1f153-082c-48f0-dd17-af58b9ff1905"
      },
      "execution_count": 19,
      "outputs": [
        {
          "output_type": "display_data",
          "data": {
            "text/plain": [
              "<IPython.core.display.HTML object>"
            ],
            "text/html": [
              "Waiting for W&B process to finish... <strong style=\"color:green\">(success).</strong>"
            ]
          },
          "metadata": {}
        },
        {
          "output_type": "display_data",
          "data": {
            "text/plain": [
              "<IPython.core.display.HTML object>"
            ],
            "text/html": [
              "<style>\n",
              "    table.wandb td:nth-child(1) { padding: 0 10px; text-align: left ; width: auto;} td:nth-child(2) {text-align: left ; width: 100%}\n",
              "    .wandb-row { display: flex; flex-direction: row; flex-wrap: wrap; justify-content: flex-start; width: 100% }\n",
              "    .wandb-col { display: flex; flex-direction: column; flex-basis: 100%; flex: 1; padding: 10px; }\n",
              "    </style>\n",
              "<div class=\"wandb-row\"><div class=\"wandb-col\"><h3>Run summary:</h3><br/><table class=\"wandb\"><tr><td>Acc</td><td>0.452</td></tr><tr><td>F1</td><td>0.4554</td></tr><tr><td>Precision</td><td>0.52222</td></tr><tr><td>Recall</td><td>0.452</td></tr></table><br/></div></div>"
            ]
          },
          "metadata": {}
        },
        {
          "output_type": "display_data",
          "data": {
            "text/plain": [
              "<IPython.core.display.HTML object>"
            ],
            "text/html": [
              "Synced <strong style=\"color:#cdcd00\">breezy-dawn-5</strong>: <a href=\"https://wandb.ai/gildson/first_image_classifier/runs/3oe8zx9r\" target=\"_blank\">https://wandb.ai/gildson/first_image_classifier/runs/3oe8zx9r</a><br/>Synced 5 W&B file(s), 1 media file(s), 751 artifact file(s) and 0 other file(s)"
            ]
          },
          "metadata": {}
        },
        {
          "output_type": "display_data",
          "data": {
            "text/plain": [
              "<IPython.core.display.HTML object>"
            ],
            "text/html": [
              "Find logs at: <code>./wandb/run-20221008_155908-3oe8zx9r/logs</code>"
            ]
          },
          "metadata": {}
        }
      ]
    }
  ]
}