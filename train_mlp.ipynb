{
  "nbformat": 4,
  "nbformat_minor": 0,
  "metadata": {
    "colab": {
      "provenance": [],
      "collapsed_sections": []
    },
    "kernelspec": {
      "name": "python3",
      "display_name": "Python 3"
    },
    "language_info": {
      "name": "python"
    },
    "accelerator": "GPU",
    "widgets": {
      "application/vnd.jupyter.widget-state+json": {
        "3602253f93d84f79ad3ea73b38eb3534": {
          "model_module": "@jupyter-widgets/controls",
          "model_name": "VBoxModel",
          "model_module_version": "1.5.0",
          "state": {
            "_dom_classes": [],
            "_model_module": "@jupyter-widgets/controls",
            "_model_module_version": "1.5.0",
            "_model_name": "VBoxModel",
            "_view_count": null,
            "_view_module": "@jupyter-widgets/controls",
            "_view_module_version": "1.5.0",
            "_view_name": "VBoxView",
            "box_style": "",
            "children": [
              "IPY_MODEL_13aed9e77796441a90d728aa483bdfb5",
              "IPY_MODEL_9c12eef481b941bc88c06f2f0c15f0c7"
            ],
            "layout": "IPY_MODEL_6b2274570a54441590154c04b4e6fb45"
          }
        },
        "13aed9e77796441a90d728aa483bdfb5": {
          "model_module": "@jupyter-widgets/controls",
          "model_name": "LabelModel",
          "model_module_version": "1.5.0",
          "state": {
            "_dom_classes": [],
            "_model_module": "@jupyter-widgets/controls",
            "_model_module_version": "1.5.0",
            "_model_name": "LabelModel",
            "_view_count": null,
            "_view_module": "@jupyter-widgets/controls",
            "_view_module_version": "1.5.0",
            "_view_name": "LabelView",
            "description": "",
            "description_tooltip": null,
            "layout": "IPY_MODEL_6dac8f84f6df4de38008589f3f968ea7",
            "placeholder": "​",
            "style": "IPY_MODEL_7baf97f8c0dd497e8e5089e5573f1edb",
            "value": "0.000 MB of 0.011 MB uploaded (0.000 MB deduped)\r"
          }
        },
        "9c12eef481b941bc88c06f2f0c15f0c7": {
          "model_module": "@jupyter-widgets/controls",
          "model_name": "FloatProgressModel",
          "model_module_version": "1.5.0",
          "state": {
            "_dom_classes": [],
            "_model_module": "@jupyter-widgets/controls",
            "_model_module_version": "1.5.0",
            "_model_name": "FloatProgressModel",
            "_view_count": null,
            "_view_module": "@jupyter-widgets/controls",
            "_view_module_version": "1.5.0",
            "_view_name": "ProgressView",
            "bar_style": "",
            "description": "",
            "description_tooltip": null,
            "layout": "IPY_MODEL_3e284f4b3c904020b5386024ca555473",
            "max": 1,
            "min": 0,
            "orientation": "horizontal",
            "style": "IPY_MODEL_3907cc3974954b0c957af4445e676c78",
            "value": 0.034939959973315546
          }
        },
        "6b2274570a54441590154c04b4e6fb45": {
          "model_module": "@jupyter-widgets/base",
          "model_name": "LayoutModel",
          "model_module_version": "1.2.0",
          "state": {
            "_model_module": "@jupyter-widgets/base",
            "_model_module_version": "1.2.0",
            "_model_name": "LayoutModel",
            "_view_count": null,
            "_view_module": "@jupyter-widgets/base",
            "_view_module_version": "1.2.0",
            "_view_name": "LayoutView",
            "align_content": null,
            "align_items": null,
            "align_self": null,
            "border": null,
            "bottom": null,
            "display": null,
            "flex": null,
            "flex_flow": null,
            "grid_area": null,
            "grid_auto_columns": null,
            "grid_auto_flow": null,
            "grid_auto_rows": null,
            "grid_column": null,
            "grid_gap": null,
            "grid_row": null,
            "grid_template_areas": null,
            "grid_template_columns": null,
            "grid_template_rows": null,
            "height": null,
            "justify_content": null,
            "justify_items": null,
            "left": null,
            "margin": null,
            "max_height": null,
            "max_width": null,
            "min_height": null,
            "min_width": null,
            "object_fit": null,
            "object_position": null,
            "order": null,
            "overflow": null,
            "overflow_x": null,
            "overflow_y": null,
            "padding": null,
            "right": null,
            "top": null,
            "visibility": null,
            "width": null
          }
        },
        "6dac8f84f6df4de38008589f3f968ea7": {
          "model_module": "@jupyter-widgets/base",
          "model_name": "LayoutModel",
          "model_module_version": "1.2.0",
          "state": {
            "_model_module": "@jupyter-widgets/base",
            "_model_module_version": "1.2.0",
            "_model_name": "LayoutModel",
            "_view_count": null,
            "_view_module": "@jupyter-widgets/base",
            "_view_module_version": "1.2.0",
            "_view_name": "LayoutView",
            "align_content": null,
            "align_items": null,
            "align_self": null,
            "border": null,
            "bottom": null,
            "display": null,
            "flex": null,
            "flex_flow": null,
            "grid_area": null,
            "grid_auto_columns": null,
            "grid_auto_flow": null,
            "grid_auto_rows": null,
            "grid_column": null,
            "grid_gap": null,
            "grid_row": null,
            "grid_template_areas": null,
            "grid_template_columns": null,
            "grid_template_rows": null,
            "height": null,
            "justify_content": null,
            "justify_items": null,
            "left": null,
            "margin": null,
            "max_height": null,
            "max_width": null,
            "min_height": null,
            "min_width": null,
            "object_fit": null,
            "object_position": null,
            "order": null,
            "overflow": null,
            "overflow_x": null,
            "overflow_y": null,
            "padding": null,
            "right": null,
            "top": null,
            "visibility": null,
            "width": null
          }
        },
        "7baf97f8c0dd497e8e5089e5573f1edb": {
          "model_module": "@jupyter-widgets/controls",
          "model_name": "DescriptionStyleModel",
          "model_module_version": "1.5.0",
          "state": {
            "_model_module": "@jupyter-widgets/controls",
            "_model_module_version": "1.5.0",
            "_model_name": "DescriptionStyleModel",
            "_view_count": null,
            "_view_module": "@jupyter-widgets/base",
            "_view_module_version": "1.2.0",
            "_view_name": "StyleView",
            "description_width": ""
          }
        },
        "3e284f4b3c904020b5386024ca555473": {
          "model_module": "@jupyter-widgets/base",
          "model_name": "LayoutModel",
          "model_module_version": "1.2.0",
          "state": {
            "_model_module": "@jupyter-widgets/base",
            "_model_module_version": "1.2.0",
            "_model_name": "LayoutModel",
            "_view_count": null,
            "_view_module": "@jupyter-widgets/base",
            "_view_module_version": "1.2.0",
            "_view_name": "LayoutView",
            "align_content": null,
            "align_items": null,
            "align_self": null,
            "border": null,
            "bottom": null,
            "display": null,
            "flex": null,
            "flex_flow": null,
            "grid_area": null,
            "grid_auto_columns": null,
            "grid_auto_flow": null,
            "grid_auto_rows": null,
            "grid_column": null,
            "grid_gap": null,
            "grid_row": null,
            "grid_template_areas": null,
            "grid_template_columns": null,
            "grid_template_rows": null,
            "height": null,
            "justify_content": null,
            "justify_items": null,
            "left": null,
            "margin": null,
            "max_height": null,
            "max_width": null,
            "min_height": null,
            "min_width": null,
            "object_fit": null,
            "object_position": null,
            "order": null,
            "overflow": null,
            "overflow_x": null,
            "overflow_y": null,
            "padding": null,
            "right": null,
            "top": null,
            "visibility": null,
            "width": null
          }
        },
        "3907cc3974954b0c957af4445e676c78": {
          "model_module": "@jupyter-widgets/controls",
          "model_name": "ProgressStyleModel",
          "model_module_version": "1.5.0",
          "state": {
            "_model_module": "@jupyter-widgets/controls",
            "_model_module_version": "1.5.0",
            "_model_name": "ProgressStyleModel",
            "_view_count": null,
            "_view_module": "@jupyter-widgets/base",
            "_view_module_version": "1.2.0",
            "_view_name": "StyleView",
            "bar_color": null,
            "description_width": ""
          }
        },
        "9156e1c4d83f47888b619bf9e8b5c238": {
          "model_module": "@jupyter-widgets/controls",
          "model_name": "VBoxModel",
          "model_module_version": "1.5.0",
          "state": {
            "_dom_classes": [],
            "_model_module": "@jupyter-widgets/controls",
            "_model_module_version": "1.5.0",
            "_model_name": "VBoxModel",
            "_view_count": null,
            "_view_module": "@jupyter-widgets/controls",
            "_view_module_version": "1.5.0",
            "_view_name": "VBoxView",
            "box_style": "",
            "children": [
              "IPY_MODEL_99d8b37f97aa45ae9f7b70162b4ca268",
              "IPY_MODEL_f4c939d5a8fd45a5a9dbd403b69d496f"
            ],
            "layout": "IPY_MODEL_92533c17b50c48d99db577b01fda9b2e"
          }
        },
        "99d8b37f97aa45ae9f7b70162b4ca268": {
          "model_module": "@jupyter-widgets/controls",
          "model_name": "LabelModel",
          "model_module_version": "1.5.0",
          "state": {
            "_dom_classes": [],
            "_model_module": "@jupyter-widgets/controls",
            "_model_module_version": "1.5.0",
            "_model_name": "LabelModel",
            "_view_count": null,
            "_view_module": "@jupyter-widgets/controls",
            "_view_module_version": "1.5.0",
            "_view_name": "LabelView",
            "description": "",
            "description_tooltip": null,
            "layout": "IPY_MODEL_f79b74bd10184f65b4ea583d45a6d9f9",
            "placeholder": "​",
            "style": "IPY_MODEL_c8d8d33d8938450cb4bfe653eaf0f240",
            "value": "0.000 MB of 0.004 MB uploaded (0.000 MB deduped)\r"
          }
        },
        "f4c939d5a8fd45a5a9dbd403b69d496f": {
          "model_module": "@jupyter-widgets/controls",
          "model_name": "FloatProgressModel",
          "model_module_version": "1.5.0",
          "state": {
            "_dom_classes": [],
            "_model_module": "@jupyter-widgets/controls",
            "_model_module_version": "1.5.0",
            "_model_name": "FloatProgressModel",
            "_view_count": null,
            "_view_module": "@jupyter-widgets/controls",
            "_view_module_version": "1.5.0",
            "_view_name": "ProgressView",
            "bar_style": "",
            "description": "",
            "description_tooltip": null,
            "layout": "IPY_MODEL_95921b2b744a48cbae9ff7afc557f602",
            "max": 1,
            "min": 0,
            "orientation": "horizontal",
            "style": "IPY_MODEL_5c39c8e23fe4483388c3c628a2bc7f24",
            "value": 0.09084995663486557
          }
        },
        "92533c17b50c48d99db577b01fda9b2e": {
          "model_module": "@jupyter-widgets/base",
          "model_name": "LayoutModel",
          "model_module_version": "1.2.0",
          "state": {
            "_model_module": "@jupyter-widgets/base",
            "_model_module_version": "1.2.0",
            "_model_name": "LayoutModel",
            "_view_count": null,
            "_view_module": "@jupyter-widgets/base",
            "_view_module_version": "1.2.0",
            "_view_name": "LayoutView",
            "align_content": null,
            "align_items": null,
            "align_self": null,
            "border": null,
            "bottom": null,
            "display": null,
            "flex": null,
            "flex_flow": null,
            "grid_area": null,
            "grid_auto_columns": null,
            "grid_auto_flow": null,
            "grid_auto_rows": null,
            "grid_column": null,
            "grid_gap": null,
            "grid_row": null,
            "grid_template_areas": null,
            "grid_template_columns": null,
            "grid_template_rows": null,
            "height": null,
            "justify_content": null,
            "justify_items": null,
            "left": null,
            "margin": null,
            "max_height": null,
            "max_width": null,
            "min_height": null,
            "min_width": null,
            "object_fit": null,
            "object_position": null,
            "order": null,
            "overflow": null,
            "overflow_x": null,
            "overflow_y": null,
            "padding": null,
            "right": null,
            "top": null,
            "visibility": null,
            "width": null
          }
        },
        "f79b74bd10184f65b4ea583d45a6d9f9": {
          "model_module": "@jupyter-widgets/base",
          "model_name": "LayoutModel",
          "model_module_version": "1.2.0",
          "state": {
            "_model_module": "@jupyter-widgets/base",
            "_model_module_version": "1.2.0",
            "_model_name": "LayoutModel",
            "_view_count": null,
            "_view_module": "@jupyter-widgets/base",
            "_view_module_version": "1.2.0",
            "_view_name": "LayoutView",
            "align_content": null,
            "align_items": null,
            "align_self": null,
            "border": null,
            "bottom": null,
            "display": null,
            "flex": null,
            "flex_flow": null,
            "grid_area": null,
            "grid_auto_columns": null,
            "grid_auto_flow": null,
            "grid_auto_rows": null,
            "grid_column": null,
            "grid_gap": null,
            "grid_row": null,
            "grid_template_areas": null,
            "grid_template_columns": null,
            "grid_template_rows": null,
            "height": null,
            "justify_content": null,
            "justify_items": null,
            "left": null,
            "margin": null,
            "max_height": null,
            "max_width": null,
            "min_height": null,
            "min_width": null,
            "object_fit": null,
            "object_position": null,
            "order": null,
            "overflow": null,
            "overflow_x": null,
            "overflow_y": null,
            "padding": null,
            "right": null,
            "top": null,
            "visibility": null,
            "width": null
          }
        },
        "c8d8d33d8938450cb4bfe653eaf0f240": {
          "model_module": "@jupyter-widgets/controls",
          "model_name": "DescriptionStyleModel",
          "model_module_version": "1.5.0",
          "state": {
            "_model_module": "@jupyter-widgets/controls",
            "_model_module_version": "1.5.0",
            "_model_name": "DescriptionStyleModel",
            "_view_count": null,
            "_view_module": "@jupyter-widgets/base",
            "_view_module_version": "1.2.0",
            "_view_name": "StyleView",
            "description_width": ""
          }
        },
        "95921b2b744a48cbae9ff7afc557f602": {
          "model_module": "@jupyter-widgets/base",
          "model_name": "LayoutModel",
          "model_module_version": "1.2.0",
          "state": {
            "_model_module": "@jupyter-widgets/base",
            "_model_module_version": "1.2.0",
            "_model_name": "LayoutModel",
            "_view_count": null,
            "_view_module": "@jupyter-widgets/base",
            "_view_module_version": "1.2.0",
            "_view_name": "LayoutView",
            "align_content": null,
            "align_items": null,
            "align_self": null,
            "border": null,
            "bottom": null,
            "display": null,
            "flex": null,
            "flex_flow": null,
            "grid_area": null,
            "grid_auto_columns": null,
            "grid_auto_flow": null,
            "grid_auto_rows": null,
            "grid_column": null,
            "grid_gap": null,
            "grid_row": null,
            "grid_template_areas": null,
            "grid_template_columns": null,
            "grid_template_rows": null,
            "height": null,
            "justify_content": null,
            "justify_items": null,
            "left": null,
            "margin": null,
            "max_height": null,
            "max_width": null,
            "min_height": null,
            "min_width": null,
            "object_fit": null,
            "object_position": null,
            "order": null,
            "overflow": null,
            "overflow_x": null,
            "overflow_y": null,
            "padding": null,
            "right": null,
            "top": null,
            "visibility": null,
            "width": null
          }
        },
        "5c39c8e23fe4483388c3c628a2bc7f24": {
          "model_module": "@jupyter-widgets/controls",
          "model_name": "ProgressStyleModel",
          "model_module_version": "1.5.0",
          "state": {
            "_model_module": "@jupyter-widgets/controls",
            "_model_module_version": "1.5.0",
            "_model_name": "ProgressStyleModel",
            "_view_count": null,
            "_view_module": "@jupyter-widgets/base",
            "_view_module_version": "1.2.0",
            "_view_name": "StyleView",
            "bar_color": null,
            "description_width": ""
          }
        },
        "8cd9da1a6507443999b8d93080dda736": {
          "model_module": "@jupyter-widgets/controls",
          "model_name": "VBoxModel",
          "model_module_version": "1.5.0",
          "state": {
            "_dom_classes": [],
            "_model_module": "@jupyter-widgets/controls",
            "_model_module_version": "1.5.0",
            "_model_name": "VBoxModel",
            "_view_count": null,
            "_view_module": "@jupyter-widgets/controls",
            "_view_module_version": "1.5.0",
            "_view_name": "VBoxView",
            "box_style": "",
            "children": [
              "IPY_MODEL_b0df9269d8a8453188371e3884726bca",
              "IPY_MODEL_912ea4c37ca14b5388249e836e4afba4"
            ],
            "layout": "IPY_MODEL_7bb029492e5c4dae944fb0c8e32e65c6"
          }
        },
        "b0df9269d8a8453188371e3884726bca": {
          "model_module": "@jupyter-widgets/controls",
          "model_name": "LabelModel",
          "model_module_version": "1.5.0",
          "state": {
            "_dom_classes": [],
            "_model_module": "@jupyter-widgets/controls",
            "_model_module_version": "1.5.0",
            "_model_name": "LabelModel",
            "_view_count": null,
            "_view_module": "@jupyter-widgets/controls",
            "_view_module_version": "1.5.0",
            "_view_name": "LabelView",
            "description": "",
            "description_tooltip": null,
            "layout": "IPY_MODEL_725f4bfe41f947f2b71bedec2e2b34b4",
            "placeholder": "​",
            "style": "IPY_MODEL_4168ab45bc1a4bd4851914c34ab06a22",
            "value": "0.000 MB of 0.002 MB uploaded (0.000 MB deduped)\r"
          }
        },
        "912ea4c37ca14b5388249e836e4afba4": {
          "model_module": "@jupyter-widgets/controls",
          "model_name": "FloatProgressModel",
          "model_module_version": "1.5.0",
          "state": {
            "_dom_classes": [],
            "_model_module": "@jupyter-widgets/controls",
            "_model_module_version": "1.5.0",
            "_model_name": "FloatProgressModel",
            "_view_count": null,
            "_view_module": "@jupyter-widgets/controls",
            "_view_module_version": "1.5.0",
            "_view_name": "ProgressView",
            "bar_style": "",
            "description": "",
            "description_tooltip": null,
            "layout": "IPY_MODEL_28adb4cf63f94a70966db80462c8e038",
            "max": 1,
            "min": 0,
            "orientation": "horizontal",
            "style": "IPY_MODEL_141a85341fe147eda236267fd0dfe8ad",
            "value": 0.20866533864541834
          }
        },
        "7bb029492e5c4dae944fb0c8e32e65c6": {
          "model_module": "@jupyter-widgets/base",
          "model_name": "LayoutModel",
          "model_module_version": "1.2.0",
          "state": {
            "_model_module": "@jupyter-widgets/base",
            "_model_module_version": "1.2.0",
            "_model_name": "LayoutModel",
            "_view_count": null,
            "_view_module": "@jupyter-widgets/base",
            "_view_module_version": "1.2.0",
            "_view_name": "LayoutView",
            "align_content": null,
            "align_items": null,
            "align_self": null,
            "border": null,
            "bottom": null,
            "display": null,
            "flex": null,
            "flex_flow": null,
            "grid_area": null,
            "grid_auto_columns": null,
            "grid_auto_flow": null,
            "grid_auto_rows": null,
            "grid_column": null,
            "grid_gap": null,
            "grid_row": null,
            "grid_template_areas": null,
            "grid_template_columns": null,
            "grid_template_rows": null,
            "height": null,
            "justify_content": null,
            "justify_items": null,
            "left": null,
            "margin": null,
            "max_height": null,
            "max_width": null,
            "min_height": null,
            "min_width": null,
            "object_fit": null,
            "object_position": null,
            "order": null,
            "overflow": null,
            "overflow_x": null,
            "overflow_y": null,
            "padding": null,
            "right": null,
            "top": null,
            "visibility": null,
            "width": null
          }
        },
        "725f4bfe41f947f2b71bedec2e2b34b4": {
          "model_module": "@jupyter-widgets/base",
          "model_name": "LayoutModel",
          "model_module_version": "1.2.0",
          "state": {
            "_model_module": "@jupyter-widgets/base",
            "_model_module_version": "1.2.0",
            "_model_name": "LayoutModel",
            "_view_count": null,
            "_view_module": "@jupyter-widgets/base",
            "_view_module_version": "1.2.0",
            "_view_name": "LayoutView",
            "align_content": null,
            "align_items": null,
            "align_self": null,
            "border": null,
            "bottom": null,
            "display": null,
            "flex": null,
            "flex_flow": null,
            "grid_area": null,
            "grid_auto_columns": null,
            "grid_auto_flow": null,
            "grid_auto_rows": null,
            "grid_column": null,
            "grid_gap": null,
            "grid_row": null,
            "grid_template_areas": null,
            "grid_template_columns": null,
            "grid_template_rows": null,
            "height": null,
            "justify_content": null,
            "justify_items": null,
            "left": null,
            "margin": null,
            "max_height": null,
            "max_width": null,
            "min_height": null,
            "min_width": null,
            "object_fit": null,
            "object_position": null,
            "order": null,
            "overflow": null,
            "overflow_x": null,
            "overflow_y": null,
            "padding": null,
            "right": null,
            "top": null,
            "visibility": null,
            "width": null
          }
        },
        "4168ab45bc1a4bd4851914c34ab06a22": {
          "model_module": "@jupyter-widgets/controls",
          "model_name": "DescriptionStyleModel",
          "model_module_version": "1.5.0",
          "state": {
            "_model_module": "@jupyter-widgets/controls",
            "_model_module_version": "1.5.0",
            "_model_name": "DescriptionStyleModel",
            "_view_count": null,
            "_view_module": "@jupyter-widgets/base",
            "_view_module_version": "1.2.0",
            "_view_name": "StyleView",
            "description_width": ""
          }
        },
        "28adb4cf63f94a70966db80462c8e038": {
          "model_module": "@jupyter-widgets/base",
          "model_name": "LayoutModel",
          "model_module_version": "1.2.0",
          "state": {
            "_model_module": "@jupyter-widgets/base",
            "_model_module_version": "1.2.0",
            "_model_name": "LayoutModel",
            "_view_count": null,
            "_view_module": "@jupyter-widgets/base",
            "_view_module_version": "1.2.0",
            "_view_name": "LayoutView",
            "align_content": null,
            "align_items": null,
            "align_self": null,
            "border": null,
            "bottom": null,
            "display": null,
            "flex": null,
            "flex_flow": null,
            "grid_area": null,
            "grid_auto_columns": null,
            "grid_auto_flow": null,
            "grid_auto_rows": null,
            "grid_column": null,
            "grid_gap": null,
            "grid_row": null,
            "grid_template_areas": null,
            "grid_template_columns": null,
            "grid_template_rows": null,
            "height": null,
            "justify_content": null,
            "justify_items": null,
            "left": null,
            "margin": null,
            "max_height": null,
            "max_width": null,
            "min_height": null,
            "min_width": null,
            "object_fit": null,
            "object_position": null,
            "order": null,
            "overflow": null,
            "overflow_x": null,
            "overflow_y": null,
            "padding": null,
            "right": null,
            "top": null,
            "visibility": null,
            "width": null
          }
        },
        "141a85341fe147eda236267fd0dfe8ad": {
          "model_module": "@jupyter-widgets/controls",
          "model_name": "ProgressStyleModel",
          "model_module_version": "1.5.0",
          "state": {
            "_model_module": "@jupyter-widgets/controls",
            "_model_module_version": "1.5.0",
            "_model_name": "ProgressStyleModel",
            "_view_count": null,
            "_view_module": "@jupyter-widgets/base",
            "_view_module_version": "1.2.0",
            "_view_name": "StyleView",
            "bar_color": null,
            "description_width": ""
          }
        },
        "eb121a7af61743c99ec35b5ccc757845": {
          "model_module": "@jupyter-widgets/controls",
          "model_name": "VBoxModel",
          "model_module_version": "1.5.0",
          "state": {
            "_dom_classes": [],
            "_model_module": "@jupyter-widgets/controls",
            "_model_module_version": "1.5.0",
            "_model_name": "VBoxModel",
            "_view_count": null,
            "_view_module": "@jupyter-widgets/controls",
            "_view_module_version": "1.5.0",
            "_view_name": "VBoxView",
            "box_style": "",
            "children": [
              "IPY_MODEL_741d4cc7d3e241ed8d466c612811519f",
              "IPY_MODEL_4e9fa7f01d2940c9878e8f49b1763e3d"
            ],
            "layout": "IPY_MODEL_e341e3fb3579460eb982cc6852d43973"
          }
        },
        "741d4cc7d3e241ed8d466c612811519f": {
          "model_module": "@jupyter-widgets/controls",
          "model_name": "LabelModel",
          "model_module_version": "1.5.0",
          "state": {
            "_dom_classes": [],
            "_model_module": "@jupyter-widgets/controls",
            "_model_module_version": "1.5.0",
            "_model_name": "LabelModel",
            "_view_count": null,
            "_view_module": "@jupyter-widgets/controls",
            "_view_module_version": "1.5.0",
            "_view_name": "LabelView",
            "description": "",
            "description_tooltip": null,
            "layout": "IPY_MODEL_55a86108e1ad49a48ec05d18c77b907b",
            "placeholder": "​",
            "style": "IPY_MODEL_970b38a1f9d14d9fb6d9ed418994f86d",
            "value": "0.000 MB of 0.010 MB uploaded (0.000 MB deduped)\r"
          }
        },
        "4e9fa7f01d2940c9878e8f49b1763e3d": {
          "model_module": "@jupyter-widgets/controls",
          "model_name": "FloatProgressModel",
          "model_module_version": "1.5.0",
          "state": {
            "_dom_classes": [],
            "_model_module": "@jupyter-widgets/controls",
            "_model_module_version": "1.5.0",
            "_model_name": "FloatProgressModel",
            "_view_count": null,
            "_view_module": "@jupyter-widgets/controls",
            "_view_module_version": "1.5.0",
            "_view_name": "ProgressView",
            "bar_style": "",
            "description": "",
            "description_tooltip": null,
            "layout": "IPY_MODEL_fdc9d9a117814722a0fde59d526dda9e",
            "max": 1,
            "min": 0,
            "orientation": "horizontal",
            "style": "IPY_MODEL_575597388755482aad34fda082d3e3ec",
            "value": 0.04001910219675263
          }
        },
        "e341e3fb3579460eb982cc6852d43973": {
          "model_module": "@jupyter-widgets/base",
          "model_name": "LayoutModel",
          "model_module_version": "1.2.0",
          "state": {
            "_model_module": "@jupyter-widgets/base",
            "_model_module_version": "1.2.0",
            "_model_name": "LayoutModel",
            "_view_count": null,
            "_view_module": "@jupyter-widgets/base",
            "_view_module_version": "1.2.0",
            "_view_name": "LayoutView",
            "align_content": null,
            "align_items": null,
            "align_self": null,
            "border": null,
            "bottom": null,
            "display": null,
            "flex": null,
            "flex_flow": null,
            "grid_area": null,
            "grid_auto_columns": null,
            "grid_auto_flow": null,
            "grid_auto_rows": null,
            "grid_column": null,
            "grid_gap": null,
            "grid_row": null,
            "grid_template_areas": null,
            "grid_template_columns": null,
            "grid_template_rows": null,
            "height": null,
            "justify_content": null,
            "justify_items": null,
            "left": null,
            "margin": null,
            "max_height": null,
            "max_width": null,
            "min_height": null,
            "min_width": null,
            "object_fit": null,
            "object_position": null,
            "order": null,
            "overflow": null,
            "overflow_x": null,
            "overflow_y": null,
            "padding": null,
            "right": null,
            "top": null,
            "visibility": null,
            "width": null
          }
        },
        "55a86108e1ad49a48ec05d18c77b907b": {
          "model_module": "@jupyter-widgets/base",
          "model_name": "LayoutModel",
          "model_module_version": "1.2.0",
          "state": {
            "_model_module": "@jupyter-widgets/base",
            "_model_module_version": "1.2.0",
            "_model_name": "LayoutModel",
            "_view_count": null,
            "_view_module": "@jupyter-widgets/base",
            "_view_module_version": "1.2.0",
            "_view_name": "LayoutView",
            "align_content": null,
            "align_items": null,
            "align_self": null,
            "border": null,
            "bottom": null,
            "display": null,
            "flex": null,
            "flex_flow": null,
            "grid_area": null,
            "grid_auto_columns": null,
            "grid_auto_flow": null,
            "grid_auto_rows": null,
            "grid_column": null,
            "grid_gap": null,
            "grid_row": null,
            "grid_template_areas": null,
            "grid_template_columns": null,
            "grid_template_rows": null,
            "height": null,
            "justify_content": null,
            "justify_items": null,
            "left": null,
            "margin": null,
            "max_height": null,
            "max_width": null,
            "min_height": null,
            "min_width": null,
            "object_fit": null,
            "object_position": null,
            "order": null,
            "overflow": null,
            "overflow_x": null,
            "overflow_y": null,
            "padding": null,
            "right": null,
            "top": null,
            "visibility": null,
            "width": null
          }
        },
        "970b38a1f9d14d9fb6d9ed418994f86d": {
          "model_module": "@jupyter-widgets/controls",
          "model_name": "DescriptionStyleModel",
          "model_module_version": "1.5.0",
          "state": {
            "_model_module": "@jupyter-widgets/controls",
            "_model_module_version": "1.5.0",
            "_model_name": "DescriptionStyleModel",
            "_view_count": null,
            "_view_module": "@jupyter-widgets/base",
            "_view_module_version": "1.2.0",
            "_view_name": "StyleView",
            "description_width": ""
          }
        },
        "fdc9d9a117814722a0fde59d526dda9e": {
          "model_module": "@jupyter-widgets/base",
          "model_name": "LayoutModel",
          "model_module_version": "1.2.0",
          "state": {
            "_model_module": "@jupyter-widgets/base",
            "_model_module_version": "1.2.0",
            "_model_name": "LayoutModel",
            "_view_count": null,
            "_view_module": "@jupyter-widgets/base",
            "_view_module_version": "1.2.0",
            "_view_name": "LayoutView",
            "align_content": null,
            "align_items": null,
            "align_self": null,
            "border": null,
            "bottom": null,
            "display": null,
            "flex": null,
            "flex_flow": null,
            "grid_area": null,
            "grid_auto_columns": null,
            "grid_auto_flow": null,
            "grid_auto_rows": null,
            "grid_column": null,
            "grid_gap": null,
            "grid_row": null,
            "grid_template_areas": null,
            "grid_template_columns": null,
            "grid_template_rows": null,
            "height": null,
            "justify_content": null,
            "justify_items": null,
            "left": null,
            "margin": null,
            "max_height": null,
            "max_width": null,
            "min_height": null,
            "min_width": null,
            "object_fit": null,
            "object_position": null,
            "order": null,
            "overflow": null,
            "overflow_x": null,
            "overflow_y": null,
            "padding": null,
            "right": null,
            "top": null,
            "visibility": null,
            "width": null
          }
        },
        "575597388755482aad34fda082d3e3ec": {
          "model_module": "@jupyter-widgets/controls",
          "model_name": "ProgressStyleModel",
          "model_module_version": "1.5.0",
          "state": {
            "_model_module": "@jupyter-widgets/controls",
            "_model_module_version": "1.5.0",
            "_model_name": "ProgressStyleModel",
            "_view_count": null,
            "_view_module": "@jupyter-widgets/base",
            "_view_module_version": "1.2.0",
            "_view_name": "StyleView",
            "bar_color": null,
            "description_width": ""
          }
        },
        "ec073e49265541c5b53b080056b65cca": {
          "model_module": "@jupyter-widgets/controls",
          "model_name": "VBoxModel",
          "model_module_version": "1.5.0",
          "state": {
            "_dom_classes": [],
            "_model_module": "@jupyter-widgets/controls",
            "_model_module_version": "1.5.0",
            "_model_name": "VBoxModel",
            "_view_count": null,
            "_view_module": "@jupyter-widgets/controls",
            "_view_module_version": "1.5.0",
            "_view_name": "VBoxView",
            "box_style": "",
            "children": [
              "IPY_MODEL_28434d93e8364c52a9f04a264b08f6f1",
              "IPY_MODEL_157b2c840d264c2a9af3ac6a689ff770"
            ],
            "layout": "IPY_MODEL_0cb2f5ea18124256bc17cc3ed36914c5"
          }
        },
        "28434d93e8364c52a9f04a264b08f6f1": {
          "model_module": "@jupyter-widgets/controls",
          "model_name": "LabelModel",
          "model_module_version": "1.5.0",
          "state": {
            "_dom_classes": [],
            "_model_module": "@jupyter-widgets/controls",
            "_model_module_version": "1.5.0",
            "_model_name": "LabelModel",
            "_view_count": null,
            "_view_module": "@jupyter-widgets/controls",
            "_view_module_version": "1.5.0",
            "_view_name": "LabelView",
            "description": "",
            "description_tooltip": null,
            "layout": "IPY_MODEL_2bda7d3bbc344b809f0ddc263e1c3e11",
            "placeholder": "​",
            "style": "IPY_MODEL_8c571beda3e74c25a145b71b82d0abbe",
            "value": "0.000 MB of 0.000 MB uploaded (0.000 MB deduped)\r"
          }
        },
        "157b2c840d264c2a9af3ac6a689ff770": {
          "model_module": "@jupyter-widgets/controls",
          "model_name": "FloatProgressModel",
          "model_module_version": "1.5.0",
          "state": {
            "_dom_classes": [],
            "_model_module": "@jupyter-widgets/controls",
            "_model_module_version": "1.5.0",
            "_model_name": "FloatProgressModel",
            "_view_count": null,
            "_view_module": "@jupyter-widgets/controls",
            "_view_module_version": "1.5.0",
            "_view_name": "ProgressView",
            "bar_style": "",
            "description": "",
            "description_tooltip": null,
            "layout": "IPY_MODEL_c363f5eac6584891beed80d2674132d2",
            "max": 1,
            "min": 0,
            "orientation": "horizontal",
            "style": "IPY_MODEL_157205a6ea394f2ebae47d23b1441644",
            "value": 1
          }
        },
        "0cb2f5ea18124256bc17cc3ed36914c5": {
          "model_module": "@jupyter-widgets/base",
          "model_name": "LayoutModel",
          "model_module_version": "1.2.0",
          "state": {
            "_model_module": "@jupyter-widgets/base",
            "_model_module_version": "1.2.0",
            "_model_name": "LayoutModel",
            "_view_count": null,
            "_view_module": "@jupyter-widgets/base",
            "_view_module_version": "1.2.0",
            "_view_name": "LayoutView",
            "align_content": null,
            "align_items": null,
            "align_self": null,
            "border": null,
            "bottom": null,
            "display": null,
            "flex": null,
            "flex_flow": null,
            "grid_area": null,
            "grid_auto_columns": null,
            "grid_auto_flow": null,
            "grid_auto_rows": null,
            "grid_column": null,
            "grid_gap": null,
            "grid_row": null,
            "grid_template_areas": null,
            "grid_template_columns": null,
            "grid_template_rows": null,
            "height": null,
            "justify_content": null,
            "justify_items": null,
            "left": null,
            "margin": null,
            "max_height": null,
            "max_width": null,
            "min_height": null,
            "min_width": null,
            "object_fit": null,
            "object_position": null,
            "order": null,
            "overflow": null,
            "overflow_x": null,
            "overflow_y": null,
            "padding": null,
            "right": null,
            "top": null,
            "visibility": null,
            "width": null
          }
        },
        "2bda7d3bbc344b809f0ddc263e1c3e11": {
          "model_module": "@jupyter-widgets/base",
          "model_name": "LayoutModel",
          "model_module_version": "1.2.0",
          "state": {
            "_model_module": "@jupyter-widgets/base",
            "_model_module_version": "1.2.0",
            "_model_name": "LayoutModel",
            "_view_count": null,
            "_view_module": "@jupyter-widgets/base",
            "_view_module_version": "1.2.0",
            "_view_name": "LayoutView",
            "align_content": null,
            "align_items": null,
            "align_self": null,
            "border": null,
            "bottom": null,
            "display": null,
            "flex": null,
            "flex_flow": null,
            "grid_area": null,
            "grid_auto_columns": null,
            "grid_auto_flow": null,
            "grid_auto_rows": null,
            "grid_column": null,
            "grid_gap": null,
            "grid_row": null,
            "grid_template_areas": null,
            "grid_template_columns": null,
            "grid_template_rows": null,
            "height": null,
            "justify_content": null,
            "justify_items": null,
            "left": null,
            "margin": null,
            "max_height": null,
            "max_width": null,
            "min_height": null,
            "min_width": null,
            "object_fit": null,
            "object_position": null,
            "order": null,
            "overflow": null,
            "overflow_x": null,
            "overflow_y": null,
            "padding": null,
            "right": null,
            "top": null,
            "visibility": null,
            "width": null
          }
        },
        "8c571beda3e74c25a145b71b82d0abbe": {
          "model_module": "@jupyter-widgets/controls",
          "model_name": "DescriptionStyleModel",
          "model_module_version": "1.5.0",
          "state": {
            "_model_module": "@jupyter-widgets/controls",
            "_model_module_version": "1.5.0",
            "_model_name": "DescriptionStyleModel",
            "_view_count": null,
            "_view_module": "@jupyter-widgets/base",
            "_view_module_version": "1.2.0",
            "_view_name": "StyleView",
            "description_width": ""
          }
        },
        "c363f5eac6584891beed80d2674132d2": {
          "model_module": "@jupyter-widgets/base",
          "model_name": "LayoutModel",
          "model_module_version": "1.2.0",
          "state": {
            "_model_module": "@jupyter-widgets/base",
            "_model_module_version": "1.2.0",
            "_model_name": "LayoutModel",
            "_view_count": null,
            "_view_module": "@jupyter-widgets/base",
            "_view_module_version": "1.2.0",
            "_view_name": "LayoutView",
            "align_content": null,
            "align_items": null,
            "align_self": null,
            "border": null,
            "bottom": null,
            "display": null,
            "flex": null,
            "flex_flow": null,
            "grid_area": null,
            "grid_auto_columns": null,
            "grid_auto_flow": null,
            "grid_auto_rows": null,
            "grid_column": null,
            "grid_gap": null,
            "grid_row": null,
            "grid_template_areas": null,
            "grid_template_columns": null,
            "grid_template_rows": null,
            "height": null,
            "justify_content": null,
            "justify_items": null,
            "left": null,
            "margin": null,
            "max_height": null,
            "max_width": null,
            "min_height": null,
            "min_width": null,
            "object_fit": null,
            "object_position": null,
            "order": null,
            "overflow": null,
            "overflow_x": null,
            "overflow_y": null,
            "padding": null,
            "right": null,
            "top": null,
            "visibility": null,
            "width": null
          }
        },
        "157205a6ea394f2ebae47d23b1441644": {
          "model_module": "@jupyter-widgets/controls",
          "model_name": "ProgressStyleModel",
          "model_module_version": "1.5.0",
          "state": {
            "_model_module": "@jupyter-widgets/controls",
            "_model_module_version": "1.5.0",
            "_model_name": "ProgressStyleModel",
            "_view_count": null,
            "_view_module": "@jupyter-widgets/base",
            "_view_module_version": "1.2.0",
            "_view_name": "StyleView",
            "bar_color": null,
            "description_width": ""
          }
        },
        "da80480d56944e5091f7c3b74b19656e": {
          "model_module": "@jupyter-widgets/controls",
          "model_name": "VBoxModel",
          "model_module_version": "1.5.0",
          "state": {
            "_dom_classes": [],
            "_model_module": "@jupyter-widgets/controls",
            "_model_module_version": "1.5.0",
            "_model_name": "VBoxModel",
            "_view_count": null,
            "_view_module": "@jupyter-widgets/controls",
            "_view_module_version": "1.5.0",
            "_view_name": "VBoxView",
            "box_style": "",
            "children": [
              "IPY_MODEL_99c78620c257431eb48cc0f9ba8a119a",
              "IPY_MODEL_3769d22ce8ea420ba12b45ea22f65212"
            ],
            "layout": "IPY_MODEL_264a689a66d142a3a4ec0a5614aadb1e"
          }
        },
        "99c78620c257431eb48cc0f9ba8a119a": {
          "model_module": "@jupyter-widgets/controls",
          "model_name": "LabelModel",
          "model_module_version": "1.5.0",
          "state": {
            "_dom_classes": [],
            "_model_module": "@jupyter-widgets/controls",
            "_model_module_version": "1.5.0",
            "_model_name": "LabelModel",
            "_view_count": null,
            "_view_module": "@jupyter-widgets/controls",
            "_view_module_version": "1.5.0",
            "_view_name": "LabelView",
            "description": "",
            "description_tooltip": null,
            "layout": "IPY_MODEL_473efeb4657d4ff89c808f62733b5921",
            "placeholder": "​",
            "style": "IPY_MODEL_8fef48c0bf114671a484a98150c8b8f0",
            "value": "0.000 MB of 0.000 MB uploaded (0.000 MB deduped)\r"
          }
        },
        "3769d22ce8ea420ba12b45ea22f65212": {
          "model_module": "@jupyter-widgets/controls",
          "model_name": "FloatProgressModel",
          "model_module_version": "1.5.0",
          "state": {
            "_dom_classes": [],
            "_model_module": "@jupyter-widgets/controls",
            "_model_module_version": "1.5.0",
            "_model_name": "FloatProgressModel",
            "_view_count": null,
            "_view_module": "@jupyter-widgets/controls",
            "_view_module_version": "1.5.0",
            "_view_name": "ProgressView",
            "bar_style": "",
            "description": "",
            "description_tooltip": null,
            "layout": "IPY_MODEL_ce53ac13b214487ca97b78af1507555f",
            "max": 1,
            "min": 0,
            "orientation": "horizontal",
            "style": "IPY_MODEL_dbcb042435394f108277c29443329b45",
            "value": 1
          }
        },
        "264a689a66d142a3a4ec0a5614aadb1e": {
          "model_module": "@jupyter-widgets/base",
          "model_name": "LayoutModel",
          "model_module_version": "1.2.0",
          "state": {
            "_model_module": "@jupyter-widgets/base",
            "_model_module_version": "1.2.0",
            "_model_name": "LayoutModel",
            "_view_count": null,
            "_view_module": "@jupyter-widgets/base",
            "_view_module_version": "1.2.0",
            "_view_name": "LayoutView",
            "align_content": null,
            "align_items": null,
            "align_self": null,
            "border": null,
            "bottom": null,
            "display": null,
            "flex": null,
            "flex_flow": null,
            "grid_area": null,
            "grid_auto_columns": null,
            "grid_auto_flow": null,
            "grid_auto_rows": null,
            "grid_column": null,
            "grid_gap": null,
            "grid_row": null,
            "grid_template_areas": null,
            "grid_template_columns": null,
            "grid_template_rows": null,
            "height": null,
            "justify_content": null,
            "justify_items": null,
            "left": null,
            "margin": null,
            "max_height": null,
            "max_width": null,
            "min_height": null,
            "min_width": null,
            "object_fit": null,
            "object_position": null,
            "order": null,
            "overflow": null,
            "overflow_x": null,
            "overflow_y": null,
            "padding": null,
            "right": null,
            "top": null,
            "visibility": null,
            "width": null
          }
        },
        "473efeb4657d4ff89c808f62733b5921": {
          "model_module": "@jupyter-widgets/base",
          "model_name": "LayoutModel",
          "model_module_version": "1.2.0",
          "state": {
            "_model_module": "@jupyter-widgets/base",
            "_model_module_version": "1.2.0",
            "_model_name": "LayoutModel",
            "_view_count": null,
            "_view_module": "@jupyter-widgets/base",
            "_view_module_version": "1.2.0",
            "_view_name": "LayoutView",
            "align_content": null,
            "align_items": null,
            "align_self": null,
            "border": null,
            "bottom": null,
            "display": null,
            "flex": null,
            "flex_flow": null,
            "grid_area": null,
            "grid_auto_columns": null,
            "grid_auto_flow": null,
            "grid_auto_rows": null,
            "grid_column": null,
            "grid_gap": null,
            "grid_row": null,
            "grid_template_areas": null,
            "grid_template_columns": null,
            "grid_template_rows": null,
            "height": null,
            "justify_content": null,
            "justify_items": null,
            "left": null,
            "margin": null,
            "max_height": null,
            "max_width": null,
            "min_height": null,
            "min_width": null,
            "object_fit": null,
            "object_position": null,
            "order": null,
            "overflow": null,
            "overflow_x": null,
            "overflow_y": null,
            "padding": null,
            "right": null,
            "top": null,
            "visibility": null,
            "width": null
          }
        },
        "8fef48c0bf114671a484a98150c8b8f0": {
          "model_module": "@jupyter-widgets/controls",
          "model_name": "DescriptionStyleModel",
          "model_module_version": "1.5.0",
          "state": {
            "_model_module": "@jupyter-widgets/controls",
            "_model_module_version": "1.5.0",
            "_model_name": "DescriptionStyleModel",
            "_view_count": null,
            "_view_module": "@jupyter-widgets/base",
            "_view_module_version": "1.2.0",
            "_view_name": "StyleView",
            "description_width": ""
          }
        },
        "ce53ac13b214487ca97b78af1507555f": {
          "model_module": "@jupyter-widgets/base",
          "model_name": "LayoutModel",
          "model_module_version": "1.2.0",
          "state": {
            "_model_module": "@jupyter-widgets/base",
            "_model_module_version": "1.2.0",
            "_model_name": "LayoutModel",
            "_view_count": null,
            "_view_module": "@jupyter-widgets/base",
            "_view_module_version": "1.2.0",
            "_view_name": "LayoutView",
            "align_content": null,
            "align_items": null,
            "align_self": null,
            "border": null,
            "bottom": null,
            "display": null,
            "flex": null,
            "flex_flow": null,
            "grid_area": null,
            "grid_auto_columns": null,
            "grid_auto_flow": null,
            "grid_auto_rows": null,
            "grid_column": null,
            "grid_gap": null,
            "grid_row": null,
            "grid_template_areas": null,
            "grid_template_columns": null,
            "grid_template_rows": null,
            "height": null,
            "justify_content": null,
            "justify_items": null,
            "left": null,
            "margin": null,
            "max_height": null,
            "max_width": null,
            "min_height": null,
            "min_width": null,
            "object_fit": null,
            "object_position": null,
            "order": null,
            "overflow": null,
            "overflow_x": null,
            "overflow_y": null,
            "padding": null,
            "right": null,
            "top": null,
            "visibility": null,
            "width": null
          }
        },
        "dbcb042435394f108277c29443329b45": {
          "model_module": "@jupyter-widgets/controls",
          "model_name": "ProgressStyleModel",
          "model_module_version": "1.5.0",
          "state": {
            "_model_module": "@jupyter-widgets/controls",
            "_model_module_version": "1.5.0",
            "_model_name": "ProgressStyleModel",
            "_view_count": null,
            "_view_module": "@jupyter-widgets/base",
            "_view_module_version": "1.2.0",
            "_view_name": "StyleView",
            "bar_color": null,
            "description_width": ""
          }
        }
      }
    }
  },
  "cells": [
    {
      "cell_type": "code",
      "execution_count": 1,
      "metadata": {
        "id": "4kudj24HQ3yq",
        "colab": {
          "base_uri": "https://localhost:8080/"
        },
        "outputId": "4483f0a4-0aab-4583-e9c1-b4440728d3d6"
      },
      "outputs": [
        {
          "output_type": "stream",
          "name": "stdout",
          "text": [
            "Looking in indexes: https://pypi.org/simple, https://us-python.pkg.dev/colab-wheels/public/simple/\n",
            "Collecting wandb\n",
            "  Downloading wandb-0.13.4-py2.py3-none-any.whl (1.9 MB)\n",
            "\u001b[K     |████████████████████████████████| 1.9 MB 7.0 MB/s \n",
            "\u001b[?25hCollecting sentry-sdk>=1.0.0\n",
            "  Downloading sentry_sdk-1.9.10-py2.py3-none-any.whl (162 kB)\n",
            "\u001b[K     |████████████████████████████████| 162 kB 87.0 MB/s \n",
            "\u001b[?25hCollecting docker-pycreds>=0.4.0\n",
            "  Downloading docker_pycreds-0.4.0-py2.py3-none-any.whl (9.0 kB)\n",
            "Requirement already satisfied: Click!=8.0.0,>=7.0 in /usr/local/lib/python3.7/dist-packages (from wandb) (7.1.2)\n",
            "Requirement already satisfied: six>=1.13.0 in /usr/local/lib/python3.7/dist-packages (from wandb) (1.15.0)\n",
            "Requirement already satisfied: promise<3,>=2.0 in /usr/local/lib/python3.7/dist-packages (from wandb) (2.3)\n",
            "Requirement already satisfied: protobuf!=4.0.*,!=4.21.0,<5,>=3.12.0 in /usr/local/lib/python3.7/dist-packages (from wandb) (3.17.3)\n",
            "Collecting pathtools\n",
            "  Downloading pathtools-0.1.2.tar.gz (11 kB)\n",
            "Collecting setproctitle\n",
            "  Downloading setproctitle-1.3.2-cp37-cp37m-manylinux_2_5_x86_64.manylinux1_x86_64.manylinux_2_17_x86_64.manylinux2014_x86_64.whl (30 kB)\n",
            "Requirement already satisfied: requests<3,>=2.0.0 in /usr/local/lib/python3.7/dist-packages (from wandb) (2.23.0)\n",
            "Collecting GitPython>=1.0.0\n",
            "  Downloading GitPython-3.1.29-py3-none-any.whl (182 kB)\n",
            "\u001b[K     |████████████████████████████████| 182 kB 66.0 MB/s \n",
            "\u001b[?25hRequirement already satisfied: setuptools in /usr/local/lib/python3.7/dist-packages (from wandb) (57.4.0)\n",
            "Requirement already satisfied: psutil>=5.0.0 in /usr/local/lib/python3.7/dist-packages (from wandb) (5.4.8)\n",
            "Collecting shortuuid>=0.5.0\n",
            "  Downloading shortuuid-1.0.9-py3-none-any.whl (9.4 kB)\n",
            "Requirement already satisfied: PyYAML in /usr/local/lib/python3.7/dist-packages (from wandb) (6.0)\n",
            "Collecting gitdb<5,>=4.0.1\n",
            "  Downloading gitdb-4.0.9-py3-none-any.whl (63 kB)\n",
            "\u001b[K     |████████████████████████████████| 63 kB 2.2 MB/s \n",
            "\u001b[?25hRequirement already satisfied: typing-extensions>=3.7.4.3 in /usr/local/lib/python3.7/dist-packages (from GitPython>=1.0.0->wandb) (4.1.1)\n",
            "Collecting smmap<6,>=3.0.1\n",
            "  Downloading smmap-5.0.0-py3-none-any.whl (24 kB)\n",
            "Requirement already satisfied: urllib3!=1.25.0,!=1.25.1,<1.26,>=1.21.1 in /usr/local/lib/python3.7/dist-packages (from requests<3,>=2.0.0->wandb) (1.24.3)\n",
            "Requirement already satisfied: idna<3,>=2.5 in /usr/local/lib/python3.7/dist-packages (from requests<3,>=2.0.0->wandb) (2.10)\n",
            "Requirement already satisfied: chardet<4,>=3.0.2 in /usr/local/lib/python3.7/dist-packages (from requests<3,>=2.0.0->wandb) (3.0.4)\n",
            "Requirement already satisfied: certifi>=2017.4.17 in /usr/local/lib/python3.7/dist-packages (from requests<3,>=2.0.0->wandb) (2022.9.24)\n",
            "Collecting sentry-sdk>=1.0.0\n",
            "  Downloading sentry_sdk-1.9.9-py2.py3-none-any.whl (162 kB)\n",
            "\u001b[K     |████████████████████████████████| 162 kB 45.8 MB/s \n",
            "\u001b[?25h  Downloading sentry_sdk-1.9.8-py2.py3-none-any.whl (158 kB)\n",
            "\u001b[K     |████████████████████████████████| 158 kB 24.2 MB/s \n",
            "\u001b[?25h  Downloading sentry_sdk-1.9.7-py2.py3-none-any.whl (157 kB)\n",
            "\u001b[K     |████████████████████████████████| 157 kB 57.9 MB/s \n",
            "\u001b[?25h  Downloading sentry_sdk-1.9.6-py2.py3-none-any.whl (157 kB)\n",
            "\u001b[K     |████████████████████████████████| 157 kB 48.8 MB/s \n",
            "\u001b[?25h  Downloading sentry_sdk-1.9.5-py2.py3-none-any.whl (157 kB)\n",
            "\u001b[K     |████████████████████████████████| 157 kB 48.3 MB/s \n",
            "\u001b[?25h  Downloading sentry_sdk-1.9.4-py2.py3-none-any.whl (157 kB)\n",
            "\u001b[K     |████████████████████████████████| 157 kB 52.2 MB/s \n",
            "\u001b[?25h  Downloading sentry_sdk-1.9.3-py2.py3-none-any.whl (157 kB)\n",
            "\u001b[K     |████████████████████████████████| 157 kB 34.4 MB/s \n",
            "\u001b[?25h  Downloading sentry_sdk-1.9.2-py2.py3-none-any.whl (157 kB)\n",
            "\u001b[K     |████████████████████████████████| 157 kB 49.1 MB/s \n",
            "\u001b[?25h  Downloading sentry_sdk-1.9.1-py2.py3-none-any.whl (157 kB)\n",
            "\u001b[K     |████████████████████████████████| 157 kB 48.9 MB/s \n",
            "\u001b[?25h  Downloading sentry_sdk-1.9.0-py2.py3-none-any.whl (156 kB)\n",
            "\u001b[K     |████████████████████████████████| 156 kB 55.8 MB/s \n",
            "\u001b[?25hBuilding wheels for collected packages: pathtools\n",
            "  Building wheel for pathtools (setup.py) ... \u001b[?25l\u001b[?25hdone\n",
            "  Created wheel for pathtools: filename=pathtools-0.1.2-py3-none-any.whl size=8806 sha256=e82b037d4d679a35c47ee8c57c400b4854bd2eef870b0a1dcc300a073cee1497\n",
            "  Stored in directory: /root/.cache/pip/wheels/3e/31/09/fa59cef12cdcfecc627b3d24273699f390e71828921b2cbba2\n",
            "Successfully built pathtools\n",
            "Installing collected packages: smmap, gitdb, shortuuid, setproctitle, sentry-sdk, pathtools, GitPython, docker-pycreds, wandb\n",
            "Successfully installed GitPython-3.1.29 docker-pycreds-0.4.0 gitdb-4.0.9 pathtools-0.1.2 sentry-sdk-1.9.0 setproctitle-1.3.2 shortuuid-1.0.9 smmap-5.0.0 wandb-0.13.4\n"
          ]
        }
      ],
      "source": [
        "!pip install wandb --upgrade"
      ]
    },
    {
      "cell_type": "code",
      "source": [
        "import wandb\n",
        "wandb.login()"
      ],
      "metadata": {
        "colab": {
          "base_uri": "https://localhost:8080/",
          "height": 106
        },
        "id": "h4gtHwwPQ8wz",
        "outputId": "24c726bb-80ff-453f-eca0-44f3cf55475d"
      },
      "execution_count": 2,
      "outputs": [
        {
          "output_type": "stream",
          "name": "stderr",
          "text": [
            "ERROR:wandb.jupyter:Failed to detect the name of this notebook, you can set it manually with the WANDB_NOTEBOOK_NAME environment variable to enable code saving.\n"
          ]
        },
        {
          "output_type": "display_data",
          "data": {
            "text/plain": [
              "<IPython.core.display.Javascript object>"
            ],
            "application/javascript": [
              "\n",
              "        window._wandbApiKey = new Promise((resolve, reject) => {\n",
              "            function loadScript(url) {\n",
              "            return new Promise(function(resolve, reject) {\n",
              "                let newScript = document.createElement(\"script\");\n",
              "                newScript.onerror = reject;\n",
              "                newScript.onload = resolve;\n",
              "                document.body.appendChild(newScript);\n",
              "                newScript.src = url;\n",
              "            });\n",
              "            }\n",
              "            loadScript(\"https://cdn.jsdelivr.net/npm/postmate/build/postmate.min.js\").then(() => {\n",
              "            const iframe = document.createElement('iframe')\n",
              "            iframe.style.cssText = \"width:0;height:0;border:none\"\n",
              "            document.body.appendChild(iframe)\n",
              "            const handshake = new Postmate({\n",
              "                container: iframe,\n",
              "                url: 'https://wandb.ai/authorize'\n",
              "            });\n",
              "            const timeout = setTimeout(() => reject(\"Couldn't auto authenticate\"), 5000)\n",
              "            handshake.then(function(child) {\n",
              "                child.on('authorize', data => {\n",
              "                    clearTimeout(timeout)\n",
              "                    resolve(data)\n",
              "                });\n",
              "            });\n",
              "            })\n",
              "        });\n",
              "    "
            ]
          },
          "metadata": {}
        },
        {
          "output_type": "stream",
          "name": "stderr",
          "text": [
            "\u001b[34m\u001b[1mwandb\u001b[0m: Appending key for api.wandb.ai to your netrc file: /root/.netrc\n"
          ]
        },
        {
          "output_type": "execute_result",
          "data": {
            "text/plain": [
              "True"
            ]
          },
          "metadata": {},
          "execution_count": 2
        }
      ]
    },
    {
      "cell_type": "code",
      "source": [
        "# import the necessary packages\n",
        "from imutils import paths\n",
        "import logging\n",
        "import os\n",
        "import cv2\n",
        "import numpy as np\n",
        "import joblib\n",
        "from sklearn.preprocessing import LabelEncoder\n",
        "from sklearn.neural_network import MLPClassifier\n",
        "from sklearn.metrics import classification_report\n",
        "from sklearn.metrics import fbeta_score, precision_score, recall_score, accuracy_score\n",
        "from sklearn.metrics import confusion_matrix\n",
        "from sklearn.metrics import ConfusionMatrixDisplay\n",
        "import matplotlib.pyplot as plt"
      ],
      "metadata": {
        "id": "EHkfdIY6RF_O"
      },
      "execution_count": 3,
      "outputs": []
    },
    {
      "cell_type": "code",
      "source": [
        "# configure logging\n",
        "# reference for a logging obj\n",
        "logger = logging.getLogger()\n",
        "\n",
        "# set level of logging\n",
        "logger.setLevel(logging.INFO)\n",
        "\n",
        "# create handlers\n",
        "c_handler = logging.StreamHandler()\n",
        "c_format = logging.Formatter(fmt=\"%(asctime)s %(message)s\",datefmt='%d-%m-%Y %H:%M:%S')\n",
        "c_handler.setFormatter(c_format)\n",
        "\n",
        "# add handler to the logger\n",
        "logger.handlers[0] = c_handler"
      ],
      "metadata": {
        "id": "NJqeff27RJbC"
      },
      "execution_count": 4,
      "outputs": []
    },
    {
      "cell_type": "code",
      "source": [
        "# since we are using Jupyter Notebooks we can replace our argument\n",
        "# parsing code with *hard coded* arguments and values\n",
        "args = {\n",
        "  \"project_name\": \"second_image_classifier\",\n",
        "  \"train_feature_artifact\": \"train_x:latest\",\n",
        "  \"train_target_artifact\": \"train_y:latest\",\n",
        "  \"test_feature_artifact\": \"test_x:latest\",\n",
        "  \"test_target_artifact\": \"test_y:latest\",\n",
        "  \"encoder\": \"target_encoder\",\n",
        "  \"inference_model\": \"model\",\n",
        "  \"deploy\": \"inference_result\"\n",
        "}"
      ],
      "metadata": {
        "id": "tQbT2sSeRL-M"
      },
      "execution_count": 5,
      "outputs": []
    },
    {
      "cell_type": "code",
      "source": [
        "sweep_config = {\n",
        "    'method': 'random',\n",
        "    'metric': {\n",
        "      'name': 'val_accuracy',\n",
        "      'goal': 'maximize'   \n",
        "    },\n",
        "    'parameters': {\n",
        "    'solver': {\n",
        "        'values': ['adam', 'sgd']\n",
        "        },\n",
        "    'max_iter': {\n",
        "        'values': [100, 200]\n",
        "        },\n",
        "    'activation': {\n",
        "        'values': ['relu', 'tanh']\n",
        "        },\n",
        "     'hidden_layer_sizes': {\n",
        "          'values': [(40,5), (40,10)]\n",
        "        },\n",
        "    }\n",
        "}\n",
        "\n",
        "sweep_id = wandb.sweep(sweep=sweep_config, entity='gildson', project=args[\"project_name\"])"
      ],
      "metadata": {
        "colab": {
          "base_uri": "https://localhost:8080/"
        },
        "id": "LUwEKY7TRpLt",
        "outputId": "8a4e5d52-0e47-4138-db10-375d26f32b8e"
      },
      "execution_count": 9,
      "outputs": [
        {
          "output_type": "stream",
          "name": "stdout",
          "text": [
            "Create sweep with ID: f12r803t\n",
            "Sweep URL: https://wandb.ai/gildson/second_image_classifier/sweeps/f12r803t\n"
          ]
        }
      ]
    },
    {
      "cell_type": "code",
      "source": [
        "def train():\n",
        "  run = wandb.init(entity=\"gildson\",project=args[\"project_name\"], job_type=\"Train\")\n",
        "  logger.info(\"Downloading the training data\")\n",
        "  train_x_artifact = run.use_artifact(args[\"train_feature_artifact\"])\n",
        "  train_x_path = train_x_artifact.file()\n",
        "  train_y_artifact = run.use_artifact(args[\"train_target_artifact\"])\n",
        "  train_y_path = train_y_artifact.file()\n",
        "\n",
        "  # unpacking the artifacts\n",
        "  train_x = joblib.load(train_x_path)\n",
        "  train_y = joblib.load(train_y_path)\n",
        "  # encode the labels as integers\n",
        "  le = LabelEncoder()\n",
        "  train_y = le.fit_transform(train_y)\n",
        "\n",
        "  model = MLPClassifier(hidden_layer_sizes=wandb.config.hidden_layer_sizes,\n",
        "                          max_iter=wandb.config.max_iter,\n",
        "                          solver=wandb.config.solver,\n",
        "                          activation=wandb.config.activation,\n",
        "                          random_state=1,\n",
        "                          verbose=True)\n",
        "  logger.info(\"[INFO] training MLP classifier...\")\n",
        "  model.fit(train_x, train_y)\n",
        "\n",
        "  logger.info(\"Dumping the model and encoder artifacts to the disk\")\n",
        "\n",
        "  # Save the artifacts using joblib\n",
        "  joblib.dump(le, args[\"encoder\"])\n",
        "  joblib.dump(model, args[\"inference_model\"])"
      ],
      "metadata": {
        "id": "HDqgYK7IIJ8F"
      },
      "execution_count": 10,
      "outputs": []
    },
    {
      "cell_type": "code",
      "source": [
        "wandb.agent(sweep_id, function=train, count = 10)"
      ],
      "metadata": {
        "colab": {
          "base_uri": "https://localhost:8080/",
          "height": 1000,
          "referenced_widgets": [
            "3602253f93d84f79ad3ea73b38eb3534",
            "13aed9e77796441a90d728aa483bdfb5",
            "9c12eef481b941bc88c06f2f0c15f0c7",
            "6b2274570a54441590154c04b4e6fb45",
            "6dac8f84f6df4de38008589f3f968ea7",
            "7baf97f8c0dd497e8e5089e5573f1edb",
            "3e284f4b3c904020b5386024ca555473",
            "3907cc3974954b0c957af4445e676c78",
            "9156e1c4d83f47888b619bf9e8b5c238",
            "99d8b37f97aa45ae9f7b70162b4ca268",
            "f4c939d5a8fd45a5a9dbd403b69d496f",
            "92533c17b50c48d99db577b01fda9b2e",
            "f79b74bd10184f65b4ea583d45a6d9f9",
            "c8d8d33d8938450cb4bfe653eaf0f240",
            "95921b2b744a48cbae9ff7afc557f602",
            "5c39c8e23fe4483388c3c628a2bc7f24",
            "8cd9da1a6507443999b8d93080dda736",
            "b0df9269d8a8453188371e3884726bca",
            "912ea4c37ca14b5388249e836e4afba4",
            "7bb029492e5c4dae944fb0c8e32e65c6",
            "725f4bfe41f947f2b71bedec2e2b34b4",
            "4168ab45bc1a4bd4851914c34ab06a22",
            "28adb4cf63f94a70966db80462c8e038",
            "141a85341fe147eda236267fd0dfe8ad",
            "eb121a7af61743c99ec35b5ccc757845",
            "741d4cc7d3e241ed8d466c612811519f",
            "4e9fa7f01d2940c9878e8f49b1763e3d",
            "e341e3fb3579460eb982cc6852d43973",
            "55a86108e1ad49a48ec05d18c77b907b",
            "970b38a1f9d14d9fb6d9ed418994f86d",
            "fdc9d9a117814722a0fde59d526dda9e",
            "575597388755482aad34fda082d3e3ec",
            "ec073e49265541c5b53b080056b65cca",
            "28434d93e8364c52a9f04a264b08f6f1",
            "157b2c840d264c2a9af3ac6a689ff770",
            "0cb2f5ea18124256bc17cc3ed36914c5",
            "2bda7d3bbc344b809f0ddc263e1c3e11",
            "8c571beda3e74c25a145b71b82d0abbe",
            "c363f5eac6584891beed80d2674132d2",
            "157205a6ea394f2ebae47d23b1441644",
            "da80480d56944e5091f7c3b74b19656e",
            "99c78620c257431eb48cc0f9ba8a119a",
            "3769d22ce8ea420ba12b45ea22f65212",
            "264a689a66d142a3a4ec0a5614aadb1e",
            "473efeb4657d4ff89c808f62733b5921",
            "8fef48c0bf114671a484a98150c8b8f0",
            "ce53ac13b214487ca97b78af1507555f",
            "dbcb042435394f108277c29443329b45"
          ]
        },
        "id": "nP6J6_4hub0Z",
        "outputId": "fb1134e8-0b53-4c83-d8b7-e9c9f6a8d58c"
      },
      "execution_count": 11,
      "outputs": [
        {
          "output_type": "stream",
          "name": "stderr",
          "text": [
            "\u001b[34m\u001b[1mwandb\u001b[0m: Agent Starting Run: 0lkiz27c with config:\n",
            "\u001b[34m\u001b[1mwandb\u001b[0m: \tactivation: relu\n",
            "\u001b[34m\u001b[1mwandb\u001b[0m: \thidden_layer_sizes: [40, 10]\n",
            "\u001b[34m\u001b[1mwandb\u001b[0m: \tmax_iter: 100\n",
            "\u001b[34m\u001b[1mwandb\u001b[0m: \tsolver: sgd\n",
            "Failed to detect the name of this notebook, you can set it manually with the WANDB_NOTEBOOK_NAME environment variable to enable code saving.\n",
            "\u001b[34m\u001b[1mwandb\u001b[0m: \u001b[33mWARNING\u001b[0m Ignored wandb.init() arg project when running a sweep.\n",
            "\u001b[34m\u001b[1mwandb\u001b[0m: \u001b[33mWARNING\u001b[0m Ignored wandb.init() arg entity when running a sweep.\n"
          ]
        },
        {
          "output_type": "display_data",
          "data": {
            "text/plain": [
              "<IPython.core.display.HTML object>"
            ],
            "text/html": [
              "Tracking run with wandb version 0.13.4"
            ]
          },
          "metadata": {}
        },
        {
          "output_type": "display_data",
          "data": {
            "text/plain": [
              "<IPython.core.display.HTML object>"
            ],
            "text/html": [
              "Run data is saved locally in <code>/content/wandb/run-20221016_213658-0lkiz27c</code>"
            ]
          },
          "metadata": {}
        },
        {
          "output_type": "display_data",
          "data": {
            "text/plain": [
              "<IPython.core.display.HTML object>"
            ],
            "text/html": [
              "Syncing run <strong><a href=\"https://wandb.ai/gildson/second_image_classifier/runs/0lkiz27c\" target=\"_blank\">absurd-sweep-1</a></strong> to <a href=\"https://wandb.ai/gildson/second_image_classifier\" target=\"_blank\">Weights & Biases</a> (<a href=\"https://wandb.me/run\" target=\"_blank\">docs</a>)<br/>Sweep page:  <a href=\"https://wandb.ai/gildson/second_image_classifier/sweeps/f12r803t\" target=\"_blank\">https://wandb.ai/gildson/second_image_classifier/sweeps/f12r803t</a>"
            ]
          },
          "metadata": {}
        },
        {
          "output_type": "stream",
          "name": "stderr",
          "text": [
            "16-10-2022 21:36:59 Downloading the training data\n",
            "16-10-2022 21:37:00 [INFO] training MLP classifier...\n"
          ]
        },
        {
          "output_type": "stream",
          "name": "stdout",
          "text": [
            "Iteration 1, loss = 4.75960843\n",
            "Iteration 2, loss = 1.15258605\n",
            "Iteration 3, loss = 1.14873495\n",
            "Iteration 4, loss = 1.14474702\n",
            "Iteration 5, loss = 1.14109281\n",
            "Iteration 6, loss = 1.13760306\n",
            "Iteration 7, loss = 1.13449398\n",
            "Iteration 8, loss = 1.13158467\n",
            "Iteration 9, loss = 1.12893401\n",
            "Iteration 10, loss = 1.12643630\n",
            "Iteration 11, loss = 1.12409272\n",
            "Iteration 12, loss = 1.12202996\n",
            "Iteration 13, loss = 1.12011877\n",
            "Iteration 14, loss = 1.11841623\n",
            "Iteration 15, loss = 1.11682307\n",
            "Iteration 16, loss = 1.11536589\n",
            "Iteration 17, loss = 1.11393733\n",
            "Iteration 18, loss = 1.11276292\n",
            "Iteration 19, loss = 1.11168284\n",
            "Iteration 20, loss = 1.11063162\n",
            "Iteration 21, loss = 1.10967813\n",
            "Iteration 22, loss = 1.10877829\n",
            "Iteration 23, loss = 1.10794667\n",
            "Iteration 24, loss = 1.10720065\n",
            "Iteration 25, loss = 1.10649099\n",
            "Iteration 26, loss = 1.10587056\n",
            "Iteration 27, loss = 1.10530499\n",
            "Iteration 28, loss = 1.10484762\n",
            "Iteration 29, loss = 1.10434948\n",
            "Iteration 30, loss = 1.10391290\n",
            "Iteration 31, loss = 1.10352156\n",
            "Iteration 32, loss = 1.10318709\n",
            "Iteration 33, loss = 1.10287174\n",
            "Iteration 34, loss = 1.10256711\n",
            "Iteration 35, loss = 1.10227619\n",
            "Iteration 36, loss = 1.10204374\n",
            "Iteration 37, loss = 1.10179618\n",
            "Iteration 38, loss = 1.10157929\n",
            "Iteration 39, loss = 1.10136782\n",
            "Iteration 40, loss = 1.10121756\n",
            "Iteration 41, loss = 1.10102430\n",
            "Iteration 42, loss = 1.10088553\n",
            "Iteration 43, loss = 1.10076719\n",
            "Iteration 44, loss = 1.10063958\n",
            "Iteration 45, loss = 1.10053161\n",
            "Iteration 46, loss = 1.10040992\n",
            "Iteration 47, loss = 1.10032365\n",
            "Iteration 48, loss = 1.10022629\n",
            "Iteration 49, loss = 1.10011035\n",
            "Iteration 50, loss = 1.10003031\n",
            "Iteration 51, loss = 1.09993440\n",
            "Iteration 52, loss = 1.09986410\n",
            "Iteration 53, loss = 1.09980084\n",
            "Iteration 54, loss = 1.09971834\n",
            "Iteration 55, loss = 1.09965780\n",
            "Iteration 56, loss = 1.09958890\n",
            "Iteration 57, loss = 1.09955626\n",
            "Iteration 58, loss = 1.09952564\n"
          ]
        },
        {
          "output_type": "stream",
          "name": "stderr",
          "text": [
            "16-10-2022 21:37:07 Dumping the model and encoder artifacts to the disk\n"
          ]
        },
        {
          "output_type": "stream",
          "name": "stdout",
          "text": [
            "Iteration 59, loss = 1.09947449\n",
            "Iteration 60, loss = 1.09945304\n",
            "Training loss did not improve more than tol=0.000100 for 10 consecutive epochs. Stopping.\n"
          ]
        },
        {
          "output_type": "display_data",
          "data": {
            "text/plain": [
              "<IPython.core.display.HTML object>"
            ],
            "text/html": [
              "Waiting for W&B process to finish... <strong style=\"color:green\">(success).</strong>"
            ]
          },
          "metadata": {}
        },
        {
          "output_type": "display_data",
          "data": {
            "text/plain": [
              "<IPython.core.display.HTML object>"
            ],
            "text/html": [
              "Synced <strong style=\"color:#cdcd00\">absurd-sweep-1</strong>: <a href=\"https://wandb.ai/gildson/second_image_classifier/runs/0lkiz27c\" target=\"_blank\">https://wandb.ai/gildson/second_image_classifier/runs/0lkiz27c</a><br/>Synced 5 W&B file(s), 0 media file(s), 0 artifact file(s) and 0 other file(s)"
            ]
          },
          "metadata": {}
        },
        {
          "output_type": "display_data",
          "data": {
            "text/plain": [
              "<IPython.core.display.HTML object>"
            ],
            "text/html": [
              "Find logs at: <code>./wandb/run-20221016_213658-0lkiz27c/logs</code>"
            ]
          },
          "metadata": {}
        },
        {
          "output_type": "stream",
          "name": "stderr",
          "text": [
            "\u001b[34m\u001b[1mwandb\u001b[0m: Agent Starting Run: 6tiao3yp with config:\n",
            "\u001b[34m\u001b[1mwandb\u001b[0m: \tactivation: relu\n",
            "\u001b[34m\u001b[1mwandb\u001b[0m: \thidden_layer_sizes: [40, 10]\n",
            "\u001b[34m\u001b[1mwandb\u001b[0m: \tmax_iter: 200\n",
            "\u001b[34m\u001b[1mwandb\u001b[0m: \tsolver: sgd\n",
            "Failed to detect the name of this notebook, you can set it manually with the WANDB_NOTEBOOK_NAME environment variable to enable code saving.\n",
            "\u001b[34m\u001b[1mwandb\u001b[0m: \u001b[33mWARNING\u001b[0m Ignored wandb.init() arg project when running a sweep.\n",
            "\u001b[34m\u001b[1mwandb\u001b[0m: \u001b[33mWARNING\u001b[0m Ignored wandb.init() arg entity when running a sweep.\n"
          ]
        },
        {
          "output_type": "display_data",
          "data": {
            "text/plain": [
              "<IPython.core.display.HTML object>"
            ],
            "text/html": [
              "Tracking run with wandb version 0.13.4"
            ]
          },
          "metadata": {}
        },
        {
          "output_type": "display_data",
          "data": {
            "text/plain": [
              "<IPython.core.display.HTML object>"
            ],
            "text/html": [
              "Run data is saved locally in <code>/content/wandb/run-20221016_213719-6tiao3yp</code>"
            ]
          },
          "metadata": {}
        },
        {
          "output_type": "display_data",
          "data": {
            "text/plain": [
              "<IPython.core.display.HTML object>"
            ],
            "text/html": [
              "Syncing run <strong><a href=\"https://wandb.ai/gildson/second_image_classifier/runs/6tiao3yp\" target=\"_blank\">chocolate-sweep-2</a></strong> to <a href=\"https://wandb.ai/gildson/second_image_classifier\" target=\"_blank\">Weights & Biases</a> (<a href=\"https://wandb.me/run\" target=\"_blank\">docs</a>)<br/>Sweep page:  <a href=\"https://wandb.ai/gildson/second_image_classifier/sweeps/f12r803t\" target=\"_blank\">https://wandb.ai/gildson/second_image_classifier/sweeps/f12r803t</a>"
            ]
          },
          "metadata": {}
        },
        {
          "output_type": "stream",
          "name": "stderr",
          "text": [
            "16-10-2022 21:37:20 Downloading the training data\n",
            "16-10-2022 21:37:21 [INFO] training MLP classifier...\n"
          ]
        },
        {
          "output_type": "stream",
          "name": "stdout",
          "text": [
            "Iteration 1, loss = 4.75960843\n",
            "Iteration 2, loss = 1.15258605\n",
            "Iteration 3, loss = 1.14873495\n",
            "Iteration 4, loss = 1.14474702\n",
            "Iteration 5, loss = 1.14109281\n",
            "Iteration 6, loss = 1.13760306\n",
            "Iteration 7, loss = 1.13449398\n",
            "Iteration 8, loss = 1.13158467\n",
            "Iteration 9, loss = 1.12893401\n",
            "Iteration 10, loss = 1.12643630\n",
            "Iteration 11, loss = 1.12409272\n",
            "Iteration 12, loss = 1.12202996\n",
            "Iteration 13, loss = 1.12011877\n",
            "Iteration 14, loss = 1.11841623\n",
            "Iteration 15, loss = 1.11682307\n",
            "Iteration 16, loss = 1.11536589\n",
            "Iteration 17, loss = 1.11393733\n",
            "Iteration 18, loss = 1.11276292\n",
            "Iteration 19, loss = 1.11168284\n",
            "Iteration 20, loss = 1.11063162\n",
            "Iteration 21, loss = 1.10967813\n",
            "Iteration 22, loss = 1.10877829\n",
            "Iteration 23, loss = 1.10794667\n",
            "Iteration 24, loss = 1.10720065\n",
            "Iteration 25, loss = 1.10649099\n",
            "Iteration 26, loss = 1.10587056\n",
            "Iteration 27, loss = 1.10530499\n",
            "Iteration 28, loss = 1.10484762\n",
            "Iteration 29, loss = 1.10434948\n",
            "Iteration 30, loss = 1.10391290\n",
            "Iteration 31, loss = 1.10352156\n",
            "Iteration 32, loss = 1.10318709\n",
            "Iteration 33, loss = 1.10287174\n",
            "Iteration 34, loss = 1.10256711\n",
            "Iteration 35, loss = 1.10227619\n",
            "Iteration 36, loss = 1.10204374\n",
            "Iteration 37, loss = 1.10179618\n",
            "Iteration 38, loss = 1.10157929\n",
            "Iteration 39, loss = 1.10136782\n",
            "Iteration 40, loss = 1.10121756\n",
            "Iteration 41, loss = 1.10102430\n",
            "Iteration 42, loss = 1.10088553\n",
            "Iteration 43, loss = 1.10076719\n",
            "Iteration 44, loss = 1.10063958\n",
            "Iteration 45, loss = 1.10053161\n",
            "Iteration 46, loss = 1.10040992\n",
            "Iteration 47, loss = 1.10032365\n",
            "Iteration 48, loss = 1.10022629\n",
            "Iteration 49, loss = 1.10011035\n",
            "Iteration 50, loss = 1.10003031\n",
            "Iteration 51, loss = 1.09993440\n",
            "Iteration 52, loss = 1.09986410\n",
            "Iteration 53, loss = 1.09980084\n",
            "Iteration 54, loss = 1.09971834\n",
            "Iteration 55, loss = 1.09965780\n",
            "Iteration 56, loss = 1.09958890\n",
            "Iteration 57, loss = 1.09955626\n",
            "Iteration 58, loss = 1.09952564\n"
          ]
        },
        {
          "output_type": "stream",
          "name": "stderr",
          "text": [
            "16-10-2022 21:37:28 Dumping the model and encoder artifacts to the disk\n"
          ]
        },
        {
          "output_type": "stream",
          "name": "stdout",
          "text": [
            "Iteration 59, loss = 1.09947449\n",
            "Iteration 60, loss = 1.09945304\n",
            "Training loss did not improve more than tol=0.000100 for 10 consecutive epochs. Stopping.\n"
          ]
        },
        {
          "output_type": "display_data",
          "data": {
            "text/plain": [
              "<IPython.core.display.HTML object>"
            ],
            "text/html": [
              "Waiting for W&B process to finish... <strong style=\"color:green\">(success).</strong>"
            ]
          },
          "metadata": {}
        },
        {
          "output_type": "display_data",
          "data": {
            "text/plain": [
              "<IPython.core.display.HTML object>"
            ],
            "text/html": [
              "Synced <strong style=\"color:#cdcd00\">chocolate-sweep-2</strong>: <a href=\"https://wandb.ai/gildson/second_image_classifier/runs/6tiao3yp\" target=\"_blank\">https://wandb.ai/gildson/second_image_classifier/runs/6tiao3yp</a><br/>Synced 5 W&B file(s), 0 media file(s), 0 artifact file(s) and 0 other file(s)"
            ]
          },
          "metadata": {}
        },
        {
          "output_type": "display_data",
          "data": {
            "text/plain": [
              "<IPython.core.display.HTML object>"
            ],
            "text/html": [
              "Find logs at: <code>./wandb/run-20221016_213719-6tiao3yp/logs</code>"
            ]
          },
          "metadata": {}
        },
        {
          "output_type": "stream",
          "name": "stderr",
          "text": [
            "\u001b[34m\u001b[1mwandb\u001b[0m: Agent Starting Run: zyxu6iyh with config:\n",
            "\u001b[34m\u001b[1mwandb\u001b[0m: \tactivation: relu\n",
            "\u001b[34m\u001b[1mwandb\u001b[0m: \thidden_layer_sizes: [40, 10]\n",
            "\u001b[34m\u001b[1mwandb\u001b[0m: \tmax_iter: 100\n",
            "\u001b[34m\u001b[1mwandb\u001b[0m: \tsolver: adam\n",
            "Failed to detect the name of this notebook, you can set it manually with the WANDB_NOTEBOOK_NAME environment variable to enable code saving.\n",
            "\u001b[34m\u001b[1mwandb\u001b[0m: \u001b[33mWARNING\u001b[0m Ignored wandb.init() arg project when running a sweep.\n",
            "\u001b[34m\u001b[1mwandb\u001b[0m: \u001b[33mWARNING\u001b[0m Ignored wandb.init() arg entity when running a sweep.\n"
          ]
        },
        {
          "output_type": "display_data",
          "data": {
            "text/plain": [
              "<IPython.core.display.HTML object>"
            ],
            "text/html": [
              "Tracking run with wandb version 0.13.4"
            ]
          },
          "metadata": {}
        },
        {
          "output_type": "display_data",
          "data": {
            "text/plain": [
              "<IPython.core.display.HTML object>"
            ],
            "text/html": [
              "Run data is saved locally in <code>/content/wandb/run-20221016_213739-zyxu6iyh</code>"
            ]
          },
          "metadata": {}
        },
        {
          "output_type": "display_data",
          "data": {
            "text/plain": [
              "<IPython.core.display.HTML object>"
            ],
            "text/html": [
              "Syncing run <strong><a href=\"https://wandb.ai/gildson/second_image_classifier/runs/zyxu6iyh\" target=\"_blank\">skilled-sweep-3</a></strong> to <a href=\"https://wandb.ai/gildson/second_image_classifier\" target=\"_blank\">Weights & Biases</a> (<a href=\"https://wandb.me/run\" target=\"_blank\">docs</a>)<br/>Sweep page:  <a href=\"https://wandb.ai/gildson/second_image_classifier/sweeps/f12r803t\" target=\"_blank\">https://wandb.ai/gildson/second_image_classifier/sweeps/f12r803t</a>"
            ]
          },
          "metadata": {}
        },
        {
          "output_type": "stream",
          "name": "stderr",
          "text": [
            "16-10-2022 21:37:40 Downloading the training data\n",
            "16-10-2022 21:37:41 [INFO] training MLP classifier...\n"
          ]
        },
        {
          "output_type": "stream",
          "name": "stdout",
          "text": [
            "Iteration 1, loss = 5.67635741\n",
            "Iteration 2, loss = 1.15317954\n",
            "Iteration 3, loss = 1.15030286\n",
            "Iteration 4, loss = 1.14502943\n",
            "Iteration 5, loss = 1.13493507\n",
            "Iteration 6, loss = 1.09027109\n",
            "Iteration 7, loss = 1.06508823\n",
            "Iteration 8, loss = 1.03694807\n",
            "Iteration 9, loss = 1.01891403\n",
            "Iteration 10, loss = 1.01134599\n",
            "Iteration 11, loss = 1.00098746\n",
            "Iteration 12, loss = 0.99556860\n",
            "Iteration 13, loss = 0.98313199\n",
            "Iteration 14, loss = 0.97008445\n",
            "Iteration 15, loss = 0.96275410\n",
            "Iteration 16, loss = 0.95477835\n",
            "Iteration 17, loss = 0.94791120\n",
            "Iteration 18, loss = 0.94377446\n",
            "Iteration 19, loss = 0.93483873\n",
            "Iteration 20, loss = 0.93408730\n",
            "Iteration 21, loss = 0.93524146\n",
            "Iteration 22, loss = 0.92363186\n",
            "Iteration 23, loss = 0.91873708\n",
            "Iteration 24, loss = 0.91337288\n",
            "Iteration 25, loss = 0.91185062\n",
            "Iteration 26, loss = 0.90286802\n",
            "Iteration 27, loss = 0.91456871\n",
            "Iteration 28, loss = 0.91018951\n",
            "Iteration 29, loss = 0.89243656\n",
            "Iteration 30, loss = 0.89170325\n",
            "Iteration 31, loss = 0.88992790\n",
            "Iteration 32, loss = 0.88541413\n",
            "Iteration 33, loss = 0.88025171\n",
            "Iteration 34, loss = 0.87993417\n",
            "Iteration 35, loss = 0.87430802\n",
            "Iteration 36, loss = 0.87189376\n",
            "Iteration 37, loss = 0.87068936\n",
            "Iteration 38, loss = 0.86070051\n",
            "Iteration 39, loss = 0.86156962\n",
            "Iteration 40, loss = 0.86141689\n",
            "Iteration 41, loss = 0.86361011\n",
            "Iteration 42, loss = 0.86791487\n",
            "Iteration 43, loss = 0.86392236\n",
            "Iteration 44, loss = 0.85906808\n",
            "Iteration 45, loss = 0.84209824\n",
            "Iteration 46, loss = 0.83602944\n",
            "Iteration 47, loss = 0.83590438\n",
            "Iteration 48, loss = 0.83082764\n",
            "Iteration 49, loss = 0.83910151\n",
            "Iteration 50, loss = 0.82584514\n",
            "Iteration 51, loss = 0.83057915\n",
            "Iteration 52, loss = 0.84127324\n",
            "Iteration 53, loss = 0.82460654\n",
            "Iteration 54, loss = 0.82363239\n",
            "Iteration 55, loss = 0.82007208\n",
            "Iteration 56, loss = 0.81467470\n",
            "Iteration 57, loss = 0.80943277\n",
            "Iteration 58, loss = 0.81214094\n",
            "Iteration 59, loss = 0.83044157\n",
            "Iteration 60, loss = 0.82538110\n",
            "Iteration 61, loss = 0.80268108\n",
            "Iteration 62, loss = 0.80362067\n",
            "Iteration 63, loss = 0.81669081\n",
            "Iteration 64, loss = 0.82957922\n",
            "Iteration 65, loss = 0.79559082\n",
            "Iteration 66, loss = 0.79498945\n",
            "Iteration 67, loss = 0.78998011\n",
            "Iteration 68, loss = 0.78637545\n",
            "Iteration 69, loss = 0.79377496\n",
            "Iteration 70, loss = 0.82042604\n",
            "Iteration 71, loss = 0.80136175\n",
            "Iteration 72, loss = 0.78256260\n",
            "Iteration 73, loss = 0.78134998\n",
            "Iteration 74, loss = 0.78625337\n",
            "Iteration 75, loss = 0.77146814\n",
            "Iteration 76, loss = 0.76634904\n",
            "Iteration 77, loss = 0.76844110\n",
            "Iteration 78, loss = 0.77009592\n",
            "Iteration 79, loss = 0.78346341\n",
            "Iteration 80, loss = 0.78397213\n",
            "Iteration 81, loss = 0.78439795\n",
            "Iteration 82, loss = 0.76287639\n",
            "Iteration 83, loss = 0.76728722\n",
            "Iteration 84, loss = 0.76506509\n",
            "Iteration 85, loss = 0.77311634\n",
            "Iteration 86, loss = 0.76359031\n",
            "Iteration 87, loss = 0.80801794\n",
            "Iteration 88, loss = 0.79129065\n",
            "Iteration 89, loss = 0.77234514\n",
            "Iteration 90, loss = 0.74889019\n",
            "Iteration 91, loss = 0.74297363\n",
            "Iteration 92, loss = 0.76997010\n",
            "Iteration 93, loss = 0.75707816\n",
            "Iteration 94, loss = 0.74402796\n",
            "Iteration 95, loss = 0.73717035\n",
            "Iteration 96, loss = 0.76873463\n",
            "Iteration 97, loss = 0.73974638\n",
            "Iteration 98, loss = 0.74622916\n"
          ]
        },
        {
          "output_type": "stream",
          "name": "stderr",
          "text": [
            "/usr/local/lib/python3.7/dist-packages/sklearn/neural_network/_multilayer_perceptron.py:696: ConvergenceWarning: Stochastic Optimizer: Maximum iterations (100) reached and the optimization hasn't converged yet.\n",
            "  ConvergenceWarning,\n",
            "16-10-2022 21:37:54 Dumping the model and encoder artifacts to the disk\n"
          ]
        },
        {
          "output_type": "stream",
          "name": "stdout",
          "text": [
            "Iteration 99, loss = 0.73358431\n",
            "Iteration 100, loss = 0.73541404\n"
          ]
        },
        {
          "output_type": "display_data",
          "data": {
            "text/plain": [
              "<IPython.core.display.HTML object>"
            ],
            "text/html": [
              "Waiting for W&B process to finish... <strong style=\"color:green\">(success).</strong>"
            ]
          },
          "metadata": {}
        },
        {
          "output_type": "display_data",
          "data": {
            "text/plain": [
              "VBox(children=(Label(value='0.000 MB of 0.000 MB uploaded (0.000 MB deduped)\\r'), FloatProgress(value=1.0, max…"
            ],
            "application/vnd.jupyter.widget-view+json": {
              "version_major": 2,
              "version_minor": 0,
              "model_id": "3602253f93d84f79ad3ea73b38eb3534"
            }
          },
          "metadata": {}
        },
        {
          "output_type": "display_data",
          "data": {
            "text/plain": [
              "<IPython.core.display.HTML object>"
            ],
            "text/html": [
              "Synced <strong style=\"color:#cdcd00\">skilled-sweep-3</strong>: <a href=\"https://wandb.ai/gildson/second_image_classifier/runs/zyxu6iyh\" target=\"_blank\">https://wandb.ai/gildson/second_image_classifier/runs/zyxu6iyh</a><br/>Synced 5 W&B file(s), 0 media file(s), 0 artifact file(s) and 0 other file(s)"
            ]
          },
          "metadata": {}
        },
        {
          "output_type": "display_data",
          "data": {
            "text/plain": [
              "<IPython.core.display.HTML object>"
            ],
            "text/html": [
              "Find logs at: <code>./wandb/run-20221016_213739-zyxu6iyh/logs</code>"
            ]
          },
          "metadata": {}
        },
        {
          "output_type": "stream",
          "name": "stderr",
          "text": [
            "\u001b[34m\u001b[1mwandb\u001b[0m: Agent Starting Run: 88e0m30v with config:\n",
            "\u001b[34m\u001b[1mwandb\u001b[0m: \tactivation: relu\n",
            "\u001b[34m\u001b[1mwandb\u001b[0m: \thidden_layer_sizes: [40, 10]\n",
            "\u001b[34m\u001b[1mwandb\u001b[0m: \tmax_iter: 100\n",
            "\u001b[34m\u001b[1mwandb\u001b[0m: \tsolver: adam\n",
            "Failed to detect the name of this notebook, you can set it manually with the WANDB_NOTEBOOK_NAME environment variable to enable code saving.\n",
            "\u001b[34m\u001b[1mwandb\u001b[0m: \u001b[33mWARNING\u001b[0m Ignored wandb.init() arg project when running a sweep.\n",
            "\u001b[34m\u001b[1mwandb\u001b[0m: \u001b[33mWARNING\u001b[0m Ignored wandb.init() arg entity when running a sweep.\n"
          ]
        },
        {
          "output_type": "display_data",
          "data": {
            "text/plain": [
              "<IPython.core.display.HTML object>"
            ],
            "text/html": [
              "Tracking run with wandb version 0.13.4"
            ]
          },
          "metadata": {}
        },
        {
          "output_type": "display_data",
          "data": {
            "text/plain": [
              "<IPython.core.display.HTML object>"
            ],
            "text/html": [
              "Run data is saved locally in <code>/content/wandb/run-20221016_213805-88e0m30v</code>"
            ]
          },
          "metadata": {}
        },
        {
          "output_type": "display_data",
          "data": {
            "text/plain": [
              "<IPython.core.display.HTML object>"
            ],
            "text/html": [
              "Syncing run <strong><a href=\"https://wandb.ai/gildson/second_image_classifier/runs/88e0m30v\" target=\"_blank\">quiet-sweep-4</a></strong> to <a href=\"https://wandb.ai/gildson/second_image_classifier\" target=\"_blank\">Weights & Biases</a> (<a href=\"https://wandb.me/run\" target=\"_blank\">docs</a>)<br/>Sweep page:  <a href=\"https://wandb.ai/gildson/second_image_classifier/sweeps/f12r803t\" target=\"_blank\">https://wandb.ai/gildson/second_image_classifier/sweeps/f12r803t</a>"
            ]
          },
          "metadata": {}
        },
        {
          "output_type": "stream",
          "name": "stderr",
          "text": [
            "16-10-2022 21:38:06 Downloading the training data\n",
            "16-10-2022 21:38:07 [INFO] training MLP classifier...\n"
          ]
        },
        {
          "output_type": "stream",
          "name": "stdout",
          "text": [
            "Iteration 1, loss = 5.67635741\n",
            "Iteration 2, loss = 1.15317954\n",
            "Iteration 3, loss = 1.15030286\n",
            "Iteration 4, loss = 1.14502943\n",
            "Iteration 5, loss = 1.13493507\n",
            "Iteration 6, loss = 1.09027109\n",
            "Iteration 7, loss = 1.06508823\n",
            "Iteration 8, loss = 1.03694807\n",
            "Iteration 9, loss = 1.01891403\n",
            "Iteration 10, loss = 1.01134599\n",
            "Iteration 11, loss = 1.00098746\n",
            "Iteration 12, loss = 0.99556860\n",
            "Iteration 13, loss = 0.98313199\n",
            "Iteration 14, loss = 0.97008445\n",
            "Iteration 15, loss = 0.96275410\n",
            "Iteration 16, loss = 0.95477835\n",
            "Iteration 17, loss = 0.94791120\n",
            "Iteration 18, loss = 0.94377446\n",
            "Iteration 19, loss = 0.93483873\n",
            "Iteration 20, loss = 0.93408730\n",
            "Iteration 21, loss = 0.93524146\n",
            "Iteration 22, loss = 0.92363186\n",
            "Iteration 23, loss = 0.91873708\n",
            "Iteration 24, loss = 0.91337288\n",
            "Iteration 25, loss = 0.91185062\n",
            "Iteration 26, loss = 0.90286802\n",
            "Iteration 27, loss = 0.91456871\n",
            "Iteration 28, loss = 0.91018951\n",
            "Iteration 29, loss = 0.89243656\n",
            "Iteration 30, loss = 0.89170325\n",
            "Iteration 31, loss = 0.88992790\n",
            "Iteration 32, loss = 0.88541413\n",
            "Iteration 33, loss = 0.88025171\n",
            "Iteration 34, loss = 0.87993417\n",
            "Iteration 35, loss = 0.87430802\n",
            "Iteration 36, loss = 0.87189376\n",
            "Iteration 37, loss = 0.87068936\n",
            "Iteration 38, loss = 0.86070051\n",
            "Iteration 39, loss = 0.86156962\n",
            "Iteration 40, loss = 0.86141689\n",
            "Iteration 41, loss = 0.86361011\n",
            "Iteration 42, loss = 0.86791487\n",
            "Iteration 43, loss = 0.86392236\n",
            "Iteration 44, loss = 0.85906808\n",
            "Iteration 45, loss = 0.84209824\n",
            "Iteration 46, loss = 0.83602944\n",
            "Iteration 47, loss = 0.83590438\n",
            "Iteration 48, loss = 0.83082764\n",
            "Iteration 49, loss = 0.83910151\n",
            "Iteration 50, loss = 0.82584514\n",
            "Iteration 51, loss = 0.83057915\n",
            "Iteration 52, loss = 0.84127324\n",
            "Iteration 53, loss = 0.82460654\n",
            "Iteration 54, loss = 0.82363239\n",
            "Iteration 55, loss = 0.82007208\n",
            "Iteration 56, loss = 0.81467470\n",
            "Iteration 57, loss = 0.80943277\n",
            "Iteration 58, loss = 0.81214094\n",
            "Iteration 59, loss = 0.83044157\n",
            "Iteration 60, loss = 0.82538110\n",
            "Iteration 61, loss = 0.80268108\n",
            "Iteration 62, loss = 0.80362067\n",
            "Iteration 63, loss = 0.81669081\n",
            "Iteration 64, loss = 0.82957922\n",
            "Iteration 65, loss = 0.79559082\n",
            "Iteration 66, loss = 0.79498945\n",
            "Iteration 67, loss = 0.78998011\n",
            "Iteration 68, loss = 0.78637545\n",
            "Iteration 69, loss = 0.79377496\n",
            "Iteration 70, loss = 0.82042604\n",
            "Iteration 71, loss = 0.80136175\n",
            "Iteration 72, loss = 0.78256260\n",
            "Iteration 73, loss = 0.78134998\n",
            "Iteration 74, loss = 0.78625337\n",
            "Iteration 75, loss = 0.77146814\n",
            "Iteration 76, loss = 0.76634904\n",
            "Iteration 77, loss = 0.76844110\n",
            "Iteration 78, loss = 0.77009592\n",
            "Iteration 79, loss = 0.78346341\n",
            "Iteration 80, loss = 0.78397213\n",
            "Iteration 81, loss = 0.78439795\n",
            "Iteration 82, loss = 0.76287639\n",
            "Iteration 83, loss = 0.76728722\n",
            "Iteration 84, loss = 0.76506509\n",
            "Iteration 85, loss = 0.77311634\n",
            "Iteration 86, loss = 0.76359031\n",
            "Iteration 87, loss = 0.80801794\n",
            "Iteration 88, loss = 0.79129065\n",
            "Iteration 89, loss = 0.77234514\n",
            "Iteration 90, loss = 0.74889019\n",
            "Iteration 91, loss = 0.74297363\n",
            "Iteration 92, loss = 0.76997010\n",
            "Iteration 93, loss = 0.75707816\n",
            "Iteration 94, loss = 0.74402796\n",
            "Iteration 95, loss = 0.73717035\n",
            "Iteration 96, loss = 0.76873463\n",
            "Iteration 97, loss = 0.73974638\n",
            "Iteration 98, loss = 0.74622916\n"
          ]
        },
        {
          "output_type": "stream",
          "name": "stderr",
          "text": [
            "/usr/local/lib/python3.7/dist-packages/sklearn/neural_network/_multilayer_perceptron.py:696: ConvergenceWarning: Stochastic Optimizer: Maximum iterations (100) reached and the optimization hasn't converged yet.\n",
            "  ConvergenceWarning,\n",
            "16-10-2022 21:38:20 Dumping the model and encoder artifacts to the disk\n"
          ]
        },
        {
          "output_type": "stream",
          "name": "stdout",
          "text": [
            "Iteration 99, loss = 0.73358431\n",
            "Iteration 100, loss = 0.73541404\n"
          ]
        },
        {
          "output_type": "display_data",
          "data": {
            "text/plain": [
              "<IPython.core.display.HTML object>"
            ],
            "text/html": [
              "Waiting for W&B process to finish... <strong style=\"color:green\">(success).</strong>"
            ]
          },
          "metadata": {}
        },
        {
          "output_type": "display_data",
          "data": {
            "text/plain": [
              "VBox(children=(Label(value='0.000 MB of 0.000 MB uploaded (0.000 MB deduped)\\r'), FloatProgress(value=1.0, max…"
            ],
            "application/vnd.jupyter.widget-view+json": {
              "version_major": 2,
              "version_minor": 0,
              "model_id": "9156e1c4d83f47888b619bf9e8b5c238"
            }
          },
          "metadata": {}
        },
        {
          "output_type": "display_data",
          "data": {
            "text/plain": [
              "<IPython.core.display.HTML object>"
            ],
            "text/html": [
              "Synced <strong style=\"color:#cdcd00\">quiet-sweep-4</strong>: <a href=\"https://wandb.ai/gildson/second_image_classifier/runs/88e0m30v\" target=\"_blank\">https://wandb.ai/gildson/second_image_classifier/runs/88e0m30v</a><br/>Synced 5 W&B file(s), 0 media file(s), 0 artifact file(s) and 0 other file(s)"
            ]
          },
          "metadata": {}
        },
        {
          "output_type": "display_data",
          "data": {
            "text/plain": [
              "<IPython.core.display.HTML object>"
            ],
            "text/html": [
              "Find logs at: <code>./wandb/run-20221016_213805-88e0m30v/logs</code>"
            ]
          },
          "metadata": {}
        },
        {
          "output_type": "stream",
          "name": "stderr",
          "text": [
            "\u001b[34m\u001b[1mwandb\u001b[0m: Sweep Agent: Waiting for job.\n",
            "\u001b[34m\u001b[1mwandb\u001b[0m: Job received.\n",
            "\u001b[34m\u001b[1mwandb\u001b[0m: Agent Starting Run: sfmqrw26 with config:\n",
            "\u001b[34m\u001b[1mwandb\u001b[0m: \tactivation: tanh\n",
            "\u001b[34m\u001b[1mwandb\u001b[0m: \thidden_layer_sizes: [40, 10]\n",
            "\u001b[34m\u001b[1mwandb\u001b[0m: \tmax_iter: 200\n",
            "\u001b[34m\u001b[1mwandb\u001b[0m: \tsolver: sgd\n",
            "Failed to detect the name of this notebook, you can set it manually with the WANDB_NOTEBOOK_NAME environment variable to enable code saving.\n",
            "\u001b[34m\u001b[1mwandb\u001b[0m: \u001b[33mWARNING\u001b[0m Ignored wandb.init() arg project when running a sweep.\n",
            "\u001b[34m\u001b[1mwandb\u001b[0m: \u001b[33mWARNING\u001b[0m Ignored wandb.init() arg entity when running a sweep.\n"
          ]
        },
        {
          "output_type": "display_data",
          "data": {
            "text/plain": [
              "<IPython.core.display.HTML object>"
            ],
            "text/html": [
              "Tracking run with wandb version 0.13.4"
            ]
          },
          "metadata": {}
        },
        {
          "output_type": "display_data",
          "data": {
            "text/plain": [
              "<IPython.core.display.HTML object>"
            ],
            "text/html": [
              "Run data is saved locally in <code>/content/wandb/run-20221016_213836-sfmqrw26</code>"
            ]
          },
          "metadata": {}
        },
        {
          "output_type": "display_data",
          "data": {
            "text/plain": [
              "<IPython.core.display.HTML object>"
            ],
            "text/html": [
              "Syncing run <strong><a href=\"https://wandb.ai/gildson/second_image_classifier/runs/sfmqrw26\" target=\"_blank\">iconic-sweep-5</a></strong> to <a href=\"https://wandb.ai/gildson/second_image_classifier\" target=\"_blank\">Weights & Biases</a> (<a href=\"https://wandb.me/run\" target=\"_blank\">docs</a>)<br/>Sweep page:  <a href=\"https://wandb.ai/gildson/second_image_classifier/sweeps/f12r803t\" target=\"_blank\">https://wandb.ai/gildson/second_image_classifier/sweeps/f12r803t</a>"
            ]
          },
          "metadata": {}
        },
        {
          "output_type": "stream",
          "name": "stderr",
          "text": [
            "16-10-2022 21:38:38 Downloading the training data\n",
            "16-10-2022 21:38:39 [INFO] training MLP classifier...\n"
          ]
        },
        {
          "output_type": "stream",
          "name": "stdout",
          "text": [
            "Iteration 1, loss = 1.11436654\n",
            "Iteration 2, loss = 1.10418431\n",
            "Iteration 3, loss = 1.09252181\n",
            "Iteration 4, loss = 1.08772863\n",
            "Iteration 5, loss = 1.08671272\n",
            "Iteration 6, loss = 1.08786108\n",
            "Iteration 7, loss = 1.08198669\n",
            "Iteration 8, loss = 1.08285984\n",
            "Iteration 9, loss = 1.07729274\n",
            "Iteration 10, loss = 1.07191207\n",
            "Iteration 11, loss = 1.08209403\n",
            "Iteration 12, loss = 1.07380175\n",
            "Iteration 13, loss = 1.06208705\n",
            "Iteration 14, loss = 1.07463245\n",
            "Iteration 15, loss = 1.06867855\n",
            "Iteration 16, loss = 1.08061918\n",
            "Iteration 17, loss = 1.08865278\n",
            "Iteration 18, loss = 1.08680284\n",
            "Iteration 19, loss = 1.09734933\n",
            "Iteration 20, loss = 1.08154342\n",
            "Iteration 21, loss = 1.09126143\n",
            "Iteration 22, loss = 1.09287784\n",
            "Iteration 23, loss = 1.09171557\n"
          ]
        },
        {
          "output_type": "stream",
          "name": "stderr",
          "text": [
            "16-10-2022 21:38:43 Dumping the model and encoder artifacts to the disk\n"
          ]
        },
        {
          "output_type": "stream",
          "name": "stdout",
          "text": [
            "Iteration 24, loss = 1.08815543\n",
            "Training loss did not improve more than tol=0.000100 for 10 consecutive epochs. Stopping.\n"
          ]
        },
        {
          "output_type": "display_data",
          "data": {
            "text/plain": [
              "<IPython.core.display.HTML object>"
            ],
            "text/html": [
              "Waiting for W&B process to finish... <strong style=\"color:green\">(success).</strong>"
            ]
          },
          "metadata": {}
        },
        {
          "output_type": "display_data",
          "data": {
            "text/plain": [
              "VBox(children=(Label(value='0.000 MB of 0.000 MB uploaded (0.000 MB deduped)\\r'), FloatProgress(value=1.0, max…"
            ],
            "application/vnd.jupyter.widget-view+json": {
              "version_major": 2,
              "version_minor": 0,
              "model_id": "8cd9da1a6507443999b8d93080dda736"
            }
          },
          "metadata": {}
        },
        {
          "output_type": "display_data",
          "data": {
            "text/plain": [
              "<IPython.core.display.HTML object>"
            ],
            "text/html": [
              "Synced <strong style=\"color:#cdcd00\">iconic-sweep-5</strong>: <a href=\"https://wandb.ai/gildson/second_image_classifier/runs/sfmqrw26\" target=\"_blank\">https://wandb.ai/gildson/second_image_classifier/runs/sfmqrw26</a><br/>Synced 5 W&B file(s), 0 media file(s), 0 artifact file(s) and 0 other file(s)"
            ]
          },
          "metadata": {}
        },
        {
          "output_type": "display_data",
          "data": {
            "text/plain": [
              "<IPython.core.display.HTML object>"
            ],
            "text/html": [
              "Find logs at: <code>./wandb/run-20221016_213836-sfmqrw26/logs</code>"
            ]
          },
          "metadata": {}
        },
        {
          "output_type": "stream",
          "name": "stderr",
          "text": [
            "\u001b[34m\u001b[1mwandb\u001b[0m: Agent Starting Run: o53yz6fr with config:\n",
            "\u001b[34m\u001b[1mwandb\u001b[0m: \tactivation: tanh\n",
            "\u001b[34m\u001b[1mwandb\u001b[0m: \thidden_layer_sizes: [40, 5]\n",
            "\u001b[34m\u001b[1mwandb\u001b[0m: \tmax_iter: 100\n",
            "\u001b[34m\u001b[1mwandb\u001b[0m: \tsolver: adam\n",
            "Failed to detect the name of this notebook, you can set it manually with the WANDB_NOTEBOOK_NAME environment variable to enable code saving.\n",
            "\u001b[34m\u001b[1mwandb\u001b[0m: \u001b[33mWARNING\u001b[0m Ignored wandb.init() arg project when running a sweep.\n",
            "\u001b[34m\u001b[1mwandb\u001b[0m: \u001b[33mWARNING\u001b[0m Ignored wandb.init() arg entity when running a sweep.\n"
          ]
        },
        {
          "output_type": "display_data",
          "data": {
            "text/plain": [
              "<IPython.core.display.HTML object>"
            ],
            "text/html": [
              "Tracking run with wandb version 0.13.4"
            ]
          },
          "metadata": {}
        },
        {
          "output_type": "display_data",
          "data": {
            "text/plain": [
              "<IPython.core.display.HTML object>"
            ],
            "text/html": [
              "Run data is saved locally in <code>/content/wandb/run-20221016_213852-o53yz6fr</code>"
            ]
          },
          "metadata": {}
        },
        {
          "output_type": "display_data",
          "data": {
            "text/plain": [
              "<IPython.core.display.HTML object>"
            ],
            "text/html": [
              "Syncing run <strong><a href=\"https://wandb.ai/gildson/second_image_classifier/runs/o53yz6fr\" target=\"_blank\">lunar-sweep-6</a></strong> to <a href=\"https://wandb.ai/gildson/second_image_classifier\" target=\"_blank\">Weights & Biases</a> (<a href=\"https://wandb.me/run\" target=\"_blank\">docs</a>)<br/>Sweep page:  <a href=\"https://wandb.ai/gildson/second_image_classifier/sweeps/f12r803t\" target=\"_blank\">https://wandb.ai/gildson/second_image_classifier/sweeps/f12r803t</a>"
            ]
          },
          "metadata": {}
        },
        {
          "output_type": "stream",
          "name": "stderr",
          "text": [
            "16-10-2022 21:38:53 Downloading the training data\n",
            "16-10-2022 21:38:54 [INFO] training MLP classifier...\n"
          ]
        },
        {
          "output_type": "stream",
          "name": "stdout",
          "text": [
            "Iteration 1, loss = 1.19027269\n",
            "Iteration 2, loss = 1.12105726\n",
            "Iteration 3, loss = 1.10482777\n",
            "Iteration 4, loss = 1.09387564\n",
            "Iteration 5, loss = 1.10035173\n",
            "Iteration 6, loss = 1.09905956\n",
            "Iteration 7, loss = 1.09960147\n",
            "Iteration 8, loss = 1.09929128\n",
            "Iteration 9, loss = 1.09893014\n",
            "Iteration 10, loss = 1.09950799\n",
            "Iteration 11, loss = 1.09895248\n",
            "Iteration 12, loss = 1.09920518\n",
            "Iteration 13, loss = 1.09929061\n",
            "Iteration 14, loss = 1.10128877\n"
          ]
        },
        {
          "output_type": "stream",
          "name": "stderr",
          "text": [
            "16-10-2022 21:38:56 Dumping the model and encoder artifacts to the disk\n"
          ]
        },
        {
          "output_type": "stream",
          "name": "stdout",
          "text": [
            "Iteration 15, loss = 1.09896419\n",
            "Training loss did not improve more than tol=0.000100 for 10 consecutive epochs. Stopping.\n"
          ]
        },
        {
          "output_type": "display_data",
          "data": {
            "text/plain": [
              "<IPython.core.display.HTML object>"
            ],
            "text/html": [
              "Waiting for W&B process to finish... <strong style=\"color:green\">(success).</strong>"
            ]
          },
          "metadata": {}
        },
        {
          "output_type": "display_data",
          "data": {
            "text/plain": [
              "<IPython.core.display.HTML object>"
            ],
            "text/html": [
              "Synced <strong style=\"color:#cdcd00\">lunar-sweep-6</strong>: <a href=\"https://wandb.ai/gildson/second_image_classifier/runs/o53yz6fr\" target=\"_blank\">https://wandb.ai/gildson/second_image_classifier/runs/o53yz6fr</a><br/>Synced 5 W&B file(s), 0 media file(s), 0 artifact file(s) and 0 other file(s)"
            ]
          },
          "metadata": {}
        },
        {
          "output_type": "display_data",
          "data": {
            "text/plain": [
              "<IPython.core.display.HTML object>"
            ],
            "text/html": [
              "Find logs at: <code>./wandb/run-20221016_213852-o53yz6fr/logs</code>"
            ]
          },
          "metadata": {}
        },
        {
          "output_type": "stream",
          "name": "stderr",
          "text": [
            "\u001b[34m\u001b[1mwandb\u001b[0m: Agent Starting Run: c20ux1uz with config:\n",
            "\u001b[34m\u001b[1mwandb\u001b[0m: \tactivation: tanh\n",
            "\u001b[34m\u001b[1mwandb\u001b[0m: \thidden_layer_sizes: [40, 5]\n",
            "\u001b[34m\u001b[1mwandb\u001b[0m: \tmax_iter: 100\n",
            "\u001b[34m\u001b[1mwandb\u001b[0m: \tsolver: sgd\n",
            "Failed to detect the name of this notebook, you can set it manually with the WANDB_NOTEBOOK_NAME environment variable to enable code saving.\n",
            "\u001b[34m\u001b[1mwandb\u001b[0m: \u001b[33mWARNING\u001b[0m Ignored wandb.init() arg project when running a sweep.\n",
            "\u001b[34m\u001b[1mwandb\u001b[0m: \u001b[33mWARNING\u001b[0m Ignored wandb.init() arg entity when running a sweep.\n"
          ]
        },
        {
          "output_type": "display_data",
          "data": {
            "text/plain": [
              "<IPython.core.display.HTML object>"
            ],
            "text/html": [
              "Tracking run with wandb version 0.13.4"
            ]
          },
          "metadata": {}
        },
        {
          "output_type": "display_data",
          "data": {
            "text/plain": [
              "<IPython.core.display.HTML object>"
            ],
            "text/html": [
              "Run data is saved locally in <code>/content/wandb/run-20221016_213907-c20ux1uz</code>"
            ]
          },
          "metadata": {}
        },
        {
          "output_type": "display_data",
          "data": {
            "text/plain": [
              "<IPython.core.display.HTML object>"
            ],
            "text/html": [
              "Syncing run <strong><a href=\"https://wandb.ai/gildson/second_image_classifier/runs/c20ux1uz\" target=\"_blank\">treasured-sweep-7</a></strong> to <a href=\"https://wandb.ai/gildson/second_image_classifier\" target=\"_blank\">Weights & Biases</a> (<a href=\"https://wandb.me/run\" target=\"_blank\">docs</a>)<br/>Sweep page:  <a href=\"https://wandb.ai/gildson/second_image_classifier/sweeps/f12r803t\" target=\"_blank\">https://wandb.ai/gildson/second_image_classifier/sweeps/f12r803t</a>"
            ]
          },
          "metadata": {}
        },
        {
          "output_type": "stream",
          "name": "stderr",
          "text": [
            "16-10-2022 21:39:09 Downloading the training data\n",
            "16-10-2022 21:39:10 [INFO] training MLP classifier...\n"
          ]
        },
        {
          "output_type": "stream",
          "name": "stdout",
          "text": [
            "Iteration 1, loss = 1.16159612\n",
            "Iteration 2, loss = 1.10268382\n",
            "Iteration 3, loss = 1.09469610\n",
            "Iteration 4, loss = 1.08748290\n",
            "Iteration 5, loss = 1.07491688\n",
            "Iteration 6, loss = 1.06963269\n",
            "Iteration 7, loss = 1.06885053\n",
            "Iteration 8, loss = 1.06861072\n",
            "Iteration 9, loss = 1.09531091\n",
            "Iteration 10, loss = 1.07309828\n",
            "Iteration 11, loss = 1.05219419\n",
            "Iteration 12, loss = 1.04165642\n",
            "Iteration 13, loss = 1.03217582\n",
            "Iteration 14, loss = 1.04072480\n",
            "Iteration 15, loss = 1.02304208\n",
            "Iteration 16, loss = 1.02954465\n",
            "Iteration 17, loss = 1.03308537\n",
            "Iteration 18, loss = 1.04544636\n",
            "Iteration 19, loss = 1.02470190\n",
            "Iteration 20, loss = 1.01987883\n",
            "Iteration 21, loss = 1.01068985\n",
            "Iteration 22, loss = 1.03902624\n",
            "Iteration 23, loss = 1.02946593\n",
            "Iteration 24, loss = 1.01136759\n",
            "Iteration 25, loss = 1.01539961\n",
            "Iteration 26, loss = 1.00795483\n",
            "Iteration 27, loss = 0.99911511\n",
            "Iteration 28, loss = 1.00445212\n",
            "Iteration 29, loss = 1.02118144\n",
            "Iteration 30, loss = 1.03575783\n",
            "Iteration 31, loss = 1.02426521\n",
            "Iteration 32, loss = 0.98816654\n",
            "Iteration 33, loss = 1.00458741\n",
            "Iteration 34, loss = 1.00455921\n",
            "Iteration 35, loss = 0.99698117\n",
            "Iteration 36, loss = 0.99755667\n",
            "Iteration 37, loss = 0.99983819\n",
            "Iteration 38, loss = 0.98292309\n",
            "Iteration 39, loss = 0.98929525\n",
            "Iteration 40, loss = 1.00563701\n",
            "Iteration 41, loss = 0.99191705\n",
            "Iteration 42, loss = 1.00095642\n",
            "Iteration 43, loss = 0.98836000\n",
            "Iteration 44, loss = 1.01143151\n",
            "Iteration 45, loss = 1.02855695\n",
            "Iteration 46, loss = 1.01299376\n",
            "Iteration 47, loss = 1.00004588\n",
            "Iteration 48, loss = 1.01101222\n"
          ]
        },
        {
          "output_type": "stream",
          "name": "stderr",
          "text": [
            "16-10-2022 21:39:15 Dumping the model and encoder artifacts to the disk\n"
          ]
        },
        {
          "output_type": "stream",
          "name": "stdout",
          "text": [
            "Iteration 49, loss = 0.98589825\n",
            "Training loss did not improve more than tol=0.000100 for 10 consecutive epochs. Stopping.\n"
          ]
        },
        {
          "output_type": "display_data",
          "data": {
            "text/plain": [
              "<IPython.core.display.HTML object>"
            ],
            "text/html": [
              "Waiting for W&B process to finish... <strong style=\"color:green\">(success).</strong>"
            ]
          },
          "metadata": {}
        },
        {
          "output_type": "display_data",
          "data": {
            "text/plain": [
              "<IPython.core.display.HTML object>"
            ],
            "text/html": [
              "Synced <strong style=\"color:#cdcd00\">treasured-sweep-7</strong>: <a href=\"https://wandb.ai/gildson/second_image_classifier/runs/c20ux1uz\" target=\"_blank\">https://wandb.ai/gildson/second_image_classifier/runs/c20ux1uz</a><br/>Synced 5 W&B file(s), 0 media file(s), 0 artifact file(s) and 0 other file(s)"
            ]
          },
          "metadata": {}
        },
        {
          "output_type": "display_data",
          "data": {
            "text/plain": [
              "<IPython.core.display.HTML object>"
            ],
            "text/html": [
              "Find logs at: <code>./wandb/run-20221016_213907-c20ux1uz/logs</code>"
            ]
          },
          "metadata": {}
        },
        {
          "output_type": "stream",
          "name": "stderr",
          "text": [
            "\u001b[34m\u001b[1mwandb\u001b[0m: Sweep Agent: Waiting for job.\n",
            "\u001b[34m\u001b[1mwandb\u001b[0m: Job received.\n",
            "\u001b[34m\u001b[1mwandb\u001b[0m: Agent Starting Run: p9lcydmg with config:\n",
            "\u001b[34m\u001b[1mwandb\u001b[0m: \tactivation: relu\n",
            "\u001b[34m\u001b[1mwandb\u001b[0m: \thidden_layer_sizes: [40, 5]\n",
            "\u001b[34m\u001b[1mwandb\u001b[0m: \tmax_iter: 200\n",
            "\u001b[34m\u001b[1mwandb\u001b[0m: \tsolver: sgd\n",
            "Failed to detect the name of this notebook, you can set it manually with the WANDB_NOTEBOOK_NAME environment variable to enable code saving.\n",
            "\u001b[34m\u001b[1mwandb\u001b[0m: \u001b[33mWARNING\u001b[0m Ignored wandb.init() arg project when running a sweep.\n",
            "\u001b[34m\u001b[1mwandb\u001b[0m: \u001b[33mWARNING\u001b[0m Ignored wandb.init() arg entity when running a sweep.\n"
          ]
        },
        {
          "output_type": "display_data",
          "data": {
            "text/plain": [
              "<IPython.core.display.HTML object>"
            ],
            "text/html": [
              "Tracking run with wandb version 0.13.4"
            ]
          },
          "metadata": {}
        },
        {
          "output_type": "display_data",
          "data": {
            "text/plain": [
              "<IPython.core.display.HTML object>"
            ],
            "text/html": [
              "Run data is saved locally in <code>/content/wandb/run-20221016_213933-p9lcydmg</code>"
            ]
          },
          "metadata": {}
        },
        {
          "output_type": "display_data",
          "data": {
            "text/plain": [
              "<IPython.core.display.HTML object>"
            ],
            "text/html": [
              "Syncing run <strong><a href=\"https://wandb.ai/gildson/second_image_classifier/runs/p9lcydmg\" target=\"_blank\">still-sweep-8</a></strong> to <a href=\"https://wandb.ai/gildson/second_image_classifier\" target=\"_blank\">Weights & Biases</a> (<a href=\"https://wandb.me/run\" target=\"_blank\">docs</a>)<br/>Sweep page:  <a href=\"https://wandb.ai/gildson/second_image_classifier/sweeps/f12r803t\" target=\"_blank\">https://wandb.ai/gildson/second_image_classifier/sweeps/f12r803t</a>"
            ]
          },
          "metadata": {}
        },
        {
          "output_type": "stream",
          "name": "stderr",
          "text": [
            "16-10-2022 21:39:34 Downloading the training data\n",
            "16-10-2022 21:39:35 [INFO] training MLP classifier...\n"
          ]
        },
        {
          "output_type": "stream",
          "name": "stdout",
          "text": [
            "Iteration 1, loss = 7.17907722\n",
            "Iteration 2, loss = 1.15571353\n",
            "Iteration 3, loss = 1.15504386\n",
            "Iteration 4, loss = 1.15234916\n",
            "Iteration 5, loss = 1.14917650\n",
            "Iteration 6, loss = 1.14615941\n",
            "Iteration 7, loss = 1.14325407\n",
            "Iteration 8, loss = 1.14062334\n",
            "Iteration 9, loss = 1.13813867\n",
            "Iteration 10, loss = 1.13596186\n",
            "Iteration 11, loss = 1.13387060\n",
            "Iteration 12, loss = 1.13193192\n",
            "Iteration 13, loss = 1.13021591\n",
            "Iteration 14, loss = 1.12859768\n",
            "Iteration 15, loss = 1.12729184\n",
            "Iteration 16, loss = 1.12597129\n",
            "Iteration 17, loss = 1.12480431\n",
            "Iteration 18, loss = 1.12378749\n",
            "Iteration 19, loss = 1.12287877\n",
            "Iteration 20, loss = 1.12202880\n",
            "Iteration 21, loss = 1.12126662\n",
            "Iteration 22, loss = 1.12059563\n",
            "Iteration 23, loss = 1.11990131\n",
            "Iteration 24, loss = 1.11927572\n",
            "Iteration 25, loss = 1.11867354\n",
            "Iteration 26, loss = 1.11821425\n",
            "Iteration 27, loss = 1.11772159\n",
            "Iteration 28, loss = 1.11730464\n",
            "Iteration 29, loss = 1.11686556\n",
            "Iteration 30, loss = 1.11650619\n",
            "Iteration 31, loss = 1.11614876\n",
            "Iteration 32, loss = 1.11587827\n",
            "Iteration 33, loss = 1.11558489\n",
            "Iteration 34, loss = 1.11531294\n",
            "Iteration 35, loss = 1.11506922\n",
            "Iteration 36, loss = 1.11488233\n",
            "Iteration 37, loss = 1.11472631\n",
            "Iteration 38, loss = 1.11455824\n",
            "Iteration 39, loss = 1.11440913\n",
            "Iteration 40, loss = 1.11426194\n",
            "Iteration 41, loss = 1.11411225\n",
            "Iteration 42, loss = 1.11398216\n",
            "Iteration 43, loss = 1.11385091\n",
            "Iteration 44, loss = 1.11374943\n",
            "Iteration 45, loss = 1.11364885\n",
            "Iteration 46, loss = 1.11351599\n",
            "Iteration 47, loss = 1.11343539\n",
            "Iteration 48, loss = 1.11336120\n",
            "Iteration 49, loss = 1.11327426\n",
            "Iteration 50, loss = 1.11319775\n",
            "Iteration 51, loss = 1.11312134\n",
            "Iteration 52, loss = 1.11303526\n",
            "Iteration 53, loss = 1.11298947\n",
            "Iteration 54, loss = 1.11294856\n",
            "Iteration 55, loss = 1.11290896\n",
            "Iteration 56, loss = 1.11285925\n"
          ]
        },
        {
          "output_type": "stream",
          "name": "stderr",
          "text": [
            "16-10-2022 21:39:42 Dumping the model and encoder artifacts to the disk\n"
          ]
        },
        {
          "output_type": "stream",
          "name": "stdout",
          "text": [
            "Iteration 57, loss = 1.11282717\n",
            "Training loss did not improve more than tol=0.000100 for 10 consecutive epochs. Stopping.\n"
          ]
        },
        {
          "output_type": "display_data",
          "data": {
            "text/plain": [
              "<IPython.core.display.HTML object>"
            ],
            "text/html": [
              "Waiting for W&B process to finish... <strong style=\"color:green\">(success).</strong>"
            ]
          },
          "metadata": {}
        },
        {
          "output_type": "display_data",
          "data": {
            "text/plain": [
              "VBox(children=(Label(value='0.000 MB of 0.000 MB uploaded (0.000 MB deduped)\\r'), FloatProgress(value=1.0, max…"
            ],
            "application/vnd.jupyter.widget-view+json": {
              "version_major": 2,
              "version_minor": 0,
              "model_id": "eb121a7af61743c99ec35b5ccc757845"
            }
          },
          "metadata": {}
        },
        {
          "output_type": "display_data",
          "data": {
            "text/plain": [
              "<IPython.core.display.HTML object>"
            ],
            "text/html": [
              "Synced <strong style=\"color:#cdcd00\">still-sweep-8</strong>: <a href=\"https://wandb.ai/gildson/second_image_classifier/runs/p9lcydmg\" target=\"_blank\">https://wandb.ai/gildson/second_image_classifier/runs/p9lcydmg</a><br/>Synced 5 W&B file(s), 0 media file(s), 0 artifact file(s) and 0 other file(s)"
            ]
          },
          "metadata": {}
        },
        {
          "output_type": "display_data",
          "data": {
            "text/plain": [
              "<IPython.core.display.HTML object>"
            ],
            "text/html": [
              "Find logs at: <code>./wandb/run-20221016_213933-p9lcydmg/logs</code>"
            ]
          },
          "metadata": {}
        },
        {
          "output_type": "stream",
          "name": "stderr",
          "text": [
            "\u001b[34m\u001b[1mwandb\u001b[0m: Agent Starting Run: 3vjvwxwq with config:\n",
            "\u001b[34m\u001b[1mwandb\u001b[0m: \tactivation: relu\n",
            "\u001b[34m\u001b[1mwandb\u001b[0m: \thidden_layer_sizes: [40, 10]\n",
            "\u001b[34m\u001b[1mwandb\u001b[0m: \tmax_iter: 100\n",
            "\u001b[34m\u001b[1mwandb\u001b[0m: \tsolver: adam\n",
            "Failed to detect the name of this notebook, you can set it manually with the WANDB_NOTEBOOK_NAME environment variable to enable code saving.\n",
            "\u001b[34m\u001b[1mwandb\u001b[0m: \u001b[33mWARNING\u001b[0m Ignored wandb.init() arg project when running a sweep.\n",
            "\u001b[34m\u001b[1mwandb\u001b[0m: \u001b[33mWARNING\u001b[0m Ignored wandb.init() arg entity when running a sweep.\n"
          ]
        },
        {
          "output_type": "display_data",
          "data": {
            "text/plain": [
              "<IPython.core.display.HTML object>"
            ],
            "text/html": [
              "Tracking run with wandb version 0.13.4"
            ]
          },
          "metadata": {}
        },
        {
          "output_type": "display_data",
          "data": {
            "text/plain": [
              "<IPython.core.display.HTML object>"
            ],
            "text/html": [
              "Run data is saved locally in <code>/content/wandb/run-20221016_213950-3vjvwxwq</code>"
            ]
          },
          "metadata": {}
        },
        {
          "output_type": "display_data",
          "data": {
            "text/plain": [
              "<IPython.core.display.HTML object>"
            ],
            "text/html": [
              "Syncing run <strong><a href=\"https://wandb.ai/gildson/second_image_classifier/runs/3vjvwxwq\" target=\"_blank\">celestial-sweep-9</a></strong> to <a href=\"https://wandb.ai/gildson/second_image_classifier\" target=\"_blank\">Weights & Biases</a> (<a href=\"https://wandb.me/run\" target=\"_blank\">docs</a>)<br/>Sweep page:  <a href=\"https://wandb.ai/gildson/second_image_classifier/sweeps/f12r803t\" target=\"_blank\">https://wandb.ai/gildson/second_image_classifier/sweeps/f12r803t</a>"
            ]
          },
          "metadata": {}
        },
        {
          "output_type": "stream",
          "name": "stderr",
          "text": [
            "16-10-2022 21:39:51 Downloading the training data\n",
            "16-10-2022 21:39:52 [INFO] training MLP classifier...\n"
          ]
        },
        {
          "output_type": "stream",
          "name": "stdout",
          "text": [
            "Iteration 1, loss = 5.67635741\n",
            "Iteration 2, loss = 1.15317954\n",
            "Iteration 3, loss = 1.15030286\n",
            "Iteration 4, loss = 1.14502943\n",
            "Iteration 5, loss = 1.13493507\n",
            "Iteration 6, loss = 1.09027109\n",
            "Iteration 7, loss = 1.06508823\n",
            "Iteration 8, loss = 1.03694807\n",
            "Iteration 9, loss = 1.01891403\n",
            "Iteration 10, loss = 1.01134599\n",
            "Iteration 11, loss = 1.00098746\n",
            "Iteration 12, loss = 0.99556860\n",
            "Iteration 13, loss = 0.98313199\n",
            "Iteration 14, loss = 0.97008445\n",
            "Iteration 15, loss = 0.96275410\n",
            "Iteration 16, loss = 0.95477835\n",
            "Iteration 17, loss = 0.94791120\n",
            "Iteration 18, loss = 0.94377446\n",
            "Iteration 19, loss = 0.93483873\n",
            "Iteration 20, loss = 0.93408730\n",
            "Iteration 21, loss = 0.93524146\n",
            "Iteration 22, loss = 0.92363186\n",
            "Iteration 23, loss = 0.91873708\n",
            "Iteration 24, loss = 0.91337288\n",
            "Iteration 25, loss = 0.91185062\n",
            "Iteration 26, loss = 0.90286802\n",
            "Iteration 27, loss = 0.91456871\n",
            "Iteration 28, loss = 0.91018951\n",
            "Iteration 29, loss = 0.89243656\n",
            "Iteration 30, loss = 0.89170325\n",
            "Iteration 31, loss = 0.88992790\n",
            "Iteration 32, loss = 0.88541413\n",
            "Iteration 33, loss = 0.88025171\n",
            "Iteration 34, loss = 0.87993417\n",
            "Iteration 35, loss = 0.87430802\n",
            "Iteration 36, loss = 0.87189376\n",
            "Iteration 37, loss = 0.87068936\n",
            "Iteration 38, loss = 0.86070051\n",
            "Iteration 39, loss = 0.86156962\n",
            "Iteration 40, loss = 0.86141689\n",
            "Iteration 41, loss = 0.86361011\n",
            "Iteration 42, loss = 0.86791487\n",
            "Iteration 43, loss = 0.86392236\n",
            "Iteration 44, loss = 0.85906808\n",
            "Iteration 45, loss = 0.84209824\n",
            "Iteration 46, loss = 0.83602944\n",
            "Iteration 47, loss = 0.83590438\n",
            "Iteration 48, loss = 0.83082764\n",
            "Iteration 49, loss = 0.83910151\n",
            "Iteration 50, loss = 0.82584514\n",
            "Iteration 51, loss = 0.83057915\n",
            "Iteration 52, loss = 0.84127324\n",
            "Iteration 53, loss = 0.82460654\n",
            "Iteration 54, loss = 0.82363239\n",
            "Iteration 55, loss = 0.82007208\n",
            "Iteration 56, loss = 0.81467470\n",
            "Iteration 57, loss = 0.80943277\n",
            "Iteration 58, loss = 0.81214094\n",
            "Iteration 59, loss = 0.83044157\n",
            "Iteration 60, loss = 0.82538110\n",
            "Iteration 61, loss = 0.80268108\n",
            "Iteration 62, loss = 0.80362067\n",
            "Iteration 63, loss = 0.81669081\n",
            "Iteration 64, loss = 0.82957922\n",
            "Iteration 65, loss = 0.79559082\n",
            "Iteration 66, loss = 0.79498945\n",
            "Iteration 67, loss = 0.78998011\n",
            "Iteration 68, loss = 0.78637545\n",
            "Iteration 69, loss = 0.79377496\n",
            "Iteration 70, loss = 0.82042604\n",
            "Iteration 71, loss = 0.80136175\n",
            "Iteration 72, loss = 0.78256260\n",
            "Iteration 73, loss = 0.78134998\n",
            "Iteration 74, loss = 0.78625337\n",
            "Iteration 75, loss = 0.77146814\n",
            "Iteration 76, loss = 0.76634904\n",
            "Iteration 77, loss = 0.76844110\n",
            "Iteration 78, loss = 0.77009592\n",
            "Iteration 79, loss = 0.78346341\n",
            "Iteration 80, loss = 0.78397213\n",
            "Iteration 81, loss = 0.78439795\n",
            "Iteration 82, loss = 0.76287639\n",
            "Iteration 83, loss = 0.76728722\n",
            "Iteration 84, loss = 0.76506509\n",
            "Iteration 85, loss = 0.77311634\n",
            "Iteration 86, loss = 0.76359031\n",
            "Iteration 87, loss = 0.80801794\n",
            "Iteration 88, loss = 0.79129065\n",
            "Iteration 89, loss = 0.77234514\n",
            "Iteration 90, loss = 0.74889019\n",
            "Iteration 91, loss = 0.74297363\n",
            "Iteration 92, loss = 0.76997010\n",
            "Iteration 93, loss = 0.75707816\n",
            "Iteration 94, loss = 0.74402796\n",
            "Iteration 95, loss = 0.73717035\n",
            "Iteration 96, loss = 0.76873463\n",
            "Iteration 97, loss = 0.73974638\n",
            "Iteration 98, loss = 0.74622916\n"
          ]
        },
        {
          "output_type": "stream",
          "name": "stderr",
          "text": [
            "/usr/local/lib/python3.7/dist-packages/sklearn/neural_network/_multilayer_perceptron.py:696: ConvergenceWarning: Stochastic Optimizer: Maximum iterations (100) reached and the optimization hasn't converged yet.\n",
            "  ConvergenceWarning,\n",
            "16-10-2022 21:40:05 Dumping the model and encoder artifacts to the disk\n"
          ]
        },
        {
          "output_type": "stream",
          "name": "stdout",
          "text": [
            "Iteration 99, loss = 0.73358431\n",
            "Iteration 100, loss = 0.73541404\n"
          ]
        },
        {
          "output_type": "display_data",
          "data": {
            "text/plain": [
              "<IPython.core.display.HTML object>"
            ],
            "text/html": [
              "Waiting for W&B process to finish... <strong style=\"color:green\">(success).</strong>"
            ]
          },
          "metadata": {}
        },
        {
          "output_type": "display_data",
          "data": {
            "text/plain": [
              "VBox(children=(Label(value='0.000 MB of 0.000 MB uploaded (0.000 MB deduped)\\r'), FloatProgress(value=1.0, max…"
            ],
            "application/vnd.jupyter.widget-view+json": {
              "version_major": 2,
              "version_minor": 0,
              "model_id": "ec073e49265541c5b53b080056b65cca"
            }
          },
          "metadata": {}
        },
        {
          "output_type": "display_data",
          "data": {
            "text/plain": [
              "<IPython.core.display.HTML object>"
            ],
            "text/html": [
              "Synced <strong style=\"color:#cdcd00\">celestial-sweep-9</strong>: <a href=\"https://wandb.ai/gildson/second_image_classifier/runs/3vjvwxwq\" target=\"_blank\">https://wandb.ai/gildson/second_image_classifier/runs/3vjvwxwq</a><br/>Synced 5 W&B file(s), 0 media file(s), 0 artifact file(s) and 0 other file(s)"
            ]
          },
          "metadata": {}
        },
        {
          "output_type": "display_data",
          "data": {
            "text/plain": [
              "<IPython.core.display.HTML object>"
            ],
            "text/html": [
              "Find logs at: <code>./wandb/run-20221016_213950-3vjvwxwq/logs</code>"
            ]
          },
          "metadata": {}
        },
        {
          "output_type": "stream",
          "name": "stderr",
          "text": [
            "\u001b[34m\u001b[1mwandb\u001b[0m: Agent Starting Run: nnb19inv with config:\n",
            "\u001b[34m\u001b[1mwandb\u001b[0m: \tactivation: relu\n",
            "\u001b[34m\u001b[1mwandb\u001b[0m: \thidden_layer_sizes: [40, 10]\n",
            "\u001b[34m\u001b[1mwandb\u001b[0m: \tmax_iter: 100\n",
            "\u001b[34m\u001b[1mwandb\u001b[0m: \tsolver: sgd\n",
            "Failed to detect the name of this notebook, you can set it manually with the WANDB_NOTEBOOK_NAME environment variable to enable code saving.\n",
            "\u001b[34m\u001b[1mwandb\u001b[0m: \u001b[33mWARNING\u001b[0m Ignored wandb.init() arg project when running a sweep.\n",
            "\u001b[34m\u001b[1mwandb\u001b[0m: \u001b[33mWARNING\u001b[0m Ignored wandb.init() arg entity when running a sweep.\n"
          ]
        },
        {
          "output_type": "display_data",
          "data": {
            "text/plain": [
              "<IPython.core.display.HTML object>"
            ],
            "text/html": [
              "Tracking run with wandb version 0.13.4"
            ]
          },
          "metadata": {}
        },
        {
          "output_type": "display_data",
          "data": {
            "text/plain": [
              "<IPython.core.display.HTML object>"
            ],
            "text/html": [
              "Run data is saved locally in <code>/content/wandb/run-20221016_214015-nnb19inv</code>"
            ]
          },
          "metadata": {}
        },
        {
          "output_type": "display_data",
          "data": {
            "text/plain": [
              "<IPython.core.display.HTML object>"
            ],
            "text/html": [
              "Syncing run <strong><a href=\"https://wandb.ai/gildson/second_image_classifier/runs/nnb19inv\" target=\"_blank\">gentle-sweep-10</a></strong> to <a href=\"https://wandb.ai/gildson/second_image_classifier\" target=\"_blank\">Weights & Biases</a> (<a href=\"https://wandb.me/run\" target=\"_blank\">docs</a>)<br/>Sweep page:  <a href=\"https://wandb.ai/gildson/second_image_classifier/sweeps/f12r803t\" target=\"_blank\">https://wandb.ai/gildson/second_image_classifier/sweeps/f12r803t</a>"
            ]
          },
          "metadata": {}
        },
        {
          "output_type": "stream",
          "name": "stderr",
          "text": [
            "16-10-2022 21:40:16 Downloading the training data\n",
            "16-10-2022 21:40:17 [INFO] training MLP classifier...\n"
          ]
        },
        {
          "output_type": "stream",
          "name": "stdout",
          "text": [
            "Iteration 1, loss = 4.75960843\n",
            "Iteration 2, loss = 1.15258605\n",
            "Iteration 3, loss = 1.14873495\n",
            "Iteration 4, loss = 1.14474702\n",
            "Iteration 5, loss = 1.14109281\n",
            "Iteration 6, loss = 1.13760306\n",
            "Iteration 7, loss = 1.13449398\n",
            "Iteration 8, loss = 1.13158467\n",
            "Iteration 9, loss = 1.12893401\n",
            "Iteration 10, loss = 1.12643630\n",
            "Iteration 11, loss = 1.12409272\n",
            "Iteration 12, loss = 1.12202996\n",
            "Iteration 13, loss = 1.12011877\n",
            "Iteration 14, loss = 1.11841623\n",
            "Iteration 15, loss = 1.11682307\n",
            "Iteration 16, loss = 1.11536589\n",
            "Iteration 17, loss = 1.11393733\n",
            "Iteration 18, loss = 1.11276292\n",
            "Iteration 19, loss = 1.11168284\n",
            "Iteration 20, loss = 1.11063162\n",
            "Iteration 21, loss = 1.10967813\n",
            "Iteration 22, loss = 1.10877829\n",
            "Iteration 23, loss = 1.10794667\n",
            "Iteration 24, loss = 1.10720065\n",
            "Iteration 25, loss = 1.10649099\n",
            "Iteration 26, loss = 1.10587056\n",
            "Iteration 27, loss = 1.10530499\n",
            "Iteration 28, loss = 1.10484762\n",
            "Iteration 29, loss = 1.10434948\n",
            "Iteration 30, loss = 1.10391290\n",
            "Iteration 31, loss = 1.10352156\n",
            "Iteration 32, loss = 1.10318709\n",
            "Iteration 33, loss = 1.10287174\n",
            "Iteration 34, loss = 1.10256711\n",
            "Iteration 35, loss = 1.10227619\n",
            "Iteration 36, loss = 1.10204374\n",
            "Iteration 37, loss = 1.10179618\n",
            "Iteration 38, loss = 1.10157929\n",
            "Iteration 39, loss = 1.10136782\n",
            "Iteration 40, loss = 1.10121756\n",
            "Iteration 41, loss = 1.10102430\n",
            "Iteration 42, loss = 1.10088553\n",
            "Iteration 43, loss = 1.10076719\n",
            "Iteration 44, loss = 1.10063958\n",
            "Iteration 45, loss = 1.10053161\n",
            "Iteration 46, loss = 1.10040992\n",
            "Iteration 47, loss = 1.10032365\n",
            "Iteration 48, loss = 1.10022629\n",
            "Iteration 49, loss = 1.10011035\n",
            "Iteration 50, loss = 1.10003031\n",
            "Iteration 51, loss = 1.09993440\n",
            "Iteration 52, loss = 1.09986410\n",
            "Iteration 53, loss = 1.09980084\n",
            "Iteration 54, loss = 1.09971834\n",
            "Iteration 55, loss = 1.09965780\n",
            "Iteration 56, loss = 1.09958890\n",
            "Iteration 57, loss = 1.09955626\n",
            "Iteration 58, loss = 1.09952564\n"
          ]
        },
        {
          "output_type": "stream",
          "name": "stderr",
          "text": [
            "16-10-2022 21:40:24 Dumping the model and encoder artifacts to the disk\n"
          ]
        },
        {
          "output_type": "stream",
          "name": "stdout",
          "text": [
            "Iteration 59, loss = 1.09947449\n",
            "Iteration 60, loss = 1.09945304\n",
            "Training loss did not improve more than tol=0.000100 for 10 consecutive epochs. Stopping.\n"
          ]
        },
        {
          "output_type": "display_data",
          "data": {
            "text/plain": [
              "<IPython.core.display.HTML object>"
            ],
            "text/html": [
              "Waiting for W&B process to finish... <strong style=\"color:green\">(success).</strong>"
            ]
          },
          "metadata": {}
        },
        {
          "output_type": "display_data",
          "data": {
            "text/plain": [
              "VBox(children=(Label(value='0.000 MB of 0.000 MB uploaded (0.000 MB deduped)\\r'), FloatProgress(value=1.0, max…"
            ],
            "application/vnd.jupyter.widget-view+json": {
              "version_major": 2,
              "version_minor": 0,
              "model_id": "da80480d56944e5091f7c3b74b19656e"
            }
          },
          "metadata": {}
        },
        {
          "output_type": "display_data",
          "data": {
            "text/plain": [
              "<IPython.core.display.HTML object>"
            ],
            "text/html": [
              "Synced <strong style=\"color:#cdcd00\">gentle-sweep-10</strong>: <a href=\"https://wandb.ai/gildson/second_image_classifier/runs/nnb19inv\" target=\"_blank\">https://wandb.ai/gildson/second_image_classifier/runs/nnb19inv</a><br/>Synced 5 W&B file(s), 0 media file(s), 0 artifact file(s) and 0 other file(s)"
            ]
          },
          "metadata": {}
        },
        {
          "output_type": "display_data",
          "data": {
            "text/plain": [
              "<IPython.core.display.HTML object>"
            ],
            "text/html": [
              "Find logs at: <code>./wandb/run-20221016_214015-nnb19inv/logs</code>"
            ]
          },
          "metadata": {}
        }
      ]
    },
    {
      "cell_type": "code",
      "source": [
        "run = wandb.init(entity=\"gildson\",project=args[\"project_name\"], job_type=\"Train\")\n",
        "\n",
        "# encoder artifact\n",
        "artifact = wandb.Artifact(args[\"encoder\"],\n",
        "                          type=\"INFERENCE_MODEL\",\n",
        "                          description=\"A json file representing the target encoder\"\n",
        "                          )\n",
        "\n",
        "logger.info(\"Logging the target encoder artifact\")\n",
        "artifact.add_file(args[\"encoder\"])\n",
        "run.log_artifact(artifact)\n",
        "\n",
        "# inference model artifact\n",
        "artifact = wandb.Artifact(args[\"inference_model\"],\n",
        "                          type=\"INFERENCE_MODEL\",\n",
        "                          description=\"A json file representing the inference model\"\n",
        "                          )\n",
        "\n",
        "logger.info(\"Logging the inference model artifact\")\n",
        "artifact.add_file(args[\"inference_model\"])\n",
        "run.log_artifact(artifact)\n",
        "\n",
        "run.finish()"
      ],
      "metadata": {
        "colab": {
          "base_uri": "https://localhost:8080/",
          "height": 260
        },
        "id": "Real1_xrBZ8-",
        "outputId": "e1fc4c3a-4399-4640-8198-01bc2baa8e2d"
      },
      "execution_count": 12,
      "outputs": [
        {
          "output_type": "display_data",
          "data": {
            "text/plain": [
              "<IPython.core.display.HTML object>"
            ],
            "text/html": [
              "Changes to your `wandb` environment variables will be ignored because your `wandb` session has already started. For more information on how to modify your settings with `wandb.init()` arguments, please refer to <a href=\"https://wandb.me/wandb-init\" target=\"_blank\">the W&B docs</a>."
            ]
          },
          "metadata": {}
        },
        {
          "output_type": "stream",
          "name": "stderr",
          "text": [
            "\u001b[34m\u001b[1mwandb\u001b[0m: \u001b[33mWARNING\u001b[0m Ignored wandb.init() arg project when running a sweep.\n",
            "\u001b[34m\u001b[1mwandb\u001b[0m: \u001b[33mWARNING\u001b[0m Ignored wandb.init() arg entity when running a sweep.\n"
          ]
        },
        {
          "output_type": "display_data",
          "data": {
            "text/plain": [
              "<IPython.core.display.HTML object>"
            ],
            "text/html": [
              "Tracking run with wandb version 0.13.4"
            ]
          },
          "metadata": {}
        },
        {
          "output_type": "display_data",
          "data": {
            "text/plain": [
              "<IPython.core.display.HTML object>"
            ],
            "text/html": [
              "Run data is saved locally in <code>/content/wandb/run-20221016_214035-nnb19inv</code>"
            ]
          },
          "metadata": {}
        },
        {
          "output_type": "display_data",
          "data": {
            "text/plain": [
              "<IPython.core.display.HTML object>"
            ],
            "text/html": [
              "Syncing run <strong><a href=\"https://wandb.ai/gildson/second_image_classifier/runs/nnb19inv\" target=\"_blank\">gentle-sweep-10</a></strong> to <a href=\"https://wandb.ai/gildson/second_image_classifier\" target=\"_blank\">Weights & Biases</a> (<a href=\"https://wandb.me/run\" target=\"_blank\">docs</a>)<br/>Sweep page:  <a href=\"https://wandb.ai/gildson/second_image_classifier/sweeps/f12r803t\" target=\"_blank\">https://wandb.ai/gildson/second_image_classifier/sweeps/f12r803t</a>"
            ]
          },
          "metadata": {}
        },
        {
          "output_type": "stream",
          "name": "stderr",
          "text": [
            "16-10-2022 21:40:37 Logging the target encoder artifact\n",
            "16-10-2022 21:40:37 Logging the inference model artifact\n"
          ]
        },
        {
          "output_type": "display_data",
          "data": {
            "text/plain": [
              "<IPython.core.display.HTML object>"
            ],
            "text/html": [
              "Waiting for W&B process to finish... <strong style=\"color:green\">(success).</strong>"
            ]
          },
          "metadata": {}
        },
        {
          "output_type": "display_data",
          "data": {
            "text/plain": [
              "<IPython.core.display.HTML object>"
            ],
            "text/html": [
              "Synced <strong style=\"color:#cdcd00\">gentle-sweep-10</strong>: <a href=\"https://wandb.ai/gildson/second_image_classifier/runs/nnb19inv\" target=\"_blank\">https://wandb.ai/gildson/second_image_classifier/runs/nnb19inv</a><br/>Synced 5 W&B file(s), 0 media file(s), 2 artifact file(s) and 0 other file(s)"
            ]
          },
          "metadata": {}
        },
        {
          "output_type": "display_data",
          "data": {
            "text/plain": [
              "<IPython.core.display.HTML object>"
            ],
            "text/html": [
              "Find logs at: <code>./wandb/run-20221016_214035-nnb19inv/logs</code>"
            ]
          },
          "metadata": {}
        }
      ]
    }
  ]
}